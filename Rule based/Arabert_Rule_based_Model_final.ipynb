{
  "nbformat": 4,
  "nbformat_minor": 0,
  "metadata": {
    "colab": {
      "name": "Arabert_Rule_based_Model_final.ipynb",
      "provenance": [],
      "collapsed_sections": [
        "1low25UlOSAT"
      ],
      "machine_shape": "hm"
    },
    "kernelspec": {
      "name": "python3",
      "display_name": "Python 3"
    },
    "language_info": {
      "name": "python"
    },
    "accelerator": "GPU"
  },
  "cells": [
    {
      "cell_type": "markdown",
      "source": [
        "#Connecting Google Drive"
      ],
      "metadata": {
        "id": "ez2ppDkQ3uYs"
      }
    },
    {
      "cell_type": "code",
      "source": [
        "from google.colab import drive\n",
        "drive.mount('/content/drive')"
      ],
      "metadata": {
        "id": "696bRmh33tpG",
        "colab": {
          "base_uri": "https://localhost:8080/"
        },
        "outputId": "4dec1ce6-d4c3-4449-9df7-52c3859d0b3e"
      },
      "execution_count": null,
      "outputs": [
        {
          "output_type": "stream",
          "name": "stdout",
          "text": [
            "Drive already mounted at /content/drive; to attempt to forcibly remount, call drive.mount(\"/content/drive\", force_remount=True).\n"
          ]
        }
      ]
    },
    {
      "cell_type": "markdown",
      "source": [
        "#Imports"
      ],
      "metadata": {
        "id": "G2DNftjp4z0e"
      }
    },
    {
      "cell_type": "code",
      "source": [
        "import pandas as pd\n",
        "import os\n",
        "from sklearn.metrics.pairwise import cosine_similarity\n",
        "import numpy as np"
      ],
      "metadata": {
        "id": "KxqiFPYq40Zy"
      },
      "execution_count": null,
      "outputs": []
    },
    {
      "cell_type": "markdown",
      "source": [
        "#Locating Google drive"
      ],
      "metadata": {
        "id": "uwpIAj_C3yyO"
      }
    },
    {
      "cell_type": "code",
      "source": [
        "os.chdir(\"/content/drive/MyDrive/Rule based data \")"
      ],
      "metadata": {
        "id": "hFZHMIDq3-c8"
      },
      "execution_count": null,
      "outputs": []
    },
    {
      "cell_type": "markdown",
      "source": [
        "#Install sentence transformer"
      ],
      "metadata": {
        "id": "lRNlPDNFUOi_"
      }
    },
    {
      "cell_type": "code",
      "source": [
        "!pip install -U sentence-transformers"
      ],
      "metadata": {
        "id": "wl_U7Exv4UmQ",
        "colab": {
          "base_uri": "https://localhost:8080/"
        },
        "outputId": "0171cb6f-4f9c-46ed-f4ed-623c294cf204"
      },
      "execution_count": null,
      "outputs": [
        {
          "output_type": "stream",
          "name": "stdout",
          "text": [
            "Looking in indexes: https://pypi.org/simple, https://us-python.pkg.dev/colab-wheels/public/simple/\n",
            "Requirement already satisfied: sentence-transformers in /usr/local/lib/python3.7/dist-packages (2.2.0)\n",
            "Requirement already satisfied: transformers<5.0.0,>=4.6.0 in /usr/local/lib/python3.7/dist-packages (from sentence-transformers) (4.20.1)\n",
            "Requirement already satisfied: tqdm in /usr/local/lib/python3.7/dist-packages (from sentence-transformers) (4.64.0)\n",
            "Requirement already satisfied: scikit-learn in /usr/local/lib/python3.7/dist-packages (from sentence-transformers) (1.0.2)\n",
            "Requirement already satisfied: torchvision in /usr/local/lib/python3.7/dist-packages (from sentence-transformers) (0.12.0+cu113)\n",
            "Requirement already satisfied: huggingface-hub in /usr/local/lib/python3.7/dist-packages (from sentence-transformers) (0.8.1)\n",
            "Requirement already satisfied: scipy in /usr/local/lib/python3.7/dist-packages (from sentence-transformers) (1.4.1)\n",
            "Requirement already satisfied: sentencepiece in /usr/local/lib/python3.7/dist-packages (from sentence-transformers) (0.1.96)\n",
            "Requirement already satisfied: nltk in /usr/local/lib/python3.7/dist-packages (from sentence-transformers) (3.7)\n",
            "Requirement already satisfied: torch>=1.6.0 in /usr/local/lib/python3.7/dist-packages (from sentence-transformers) (1.11.0+cu113)\n",
            "Requirement already satisfied: numpy in /usr/local/lib/python3.7/dist-packages (from sentence-transformers) (1.21.6)\n",
            "Requirement already satisfied: typing-extensions in /usr/local/lib/python3.7/dist-packages (from torch>=1.6.0->sentence-transformers) (4.1.1)\n",
            "Requirement already satisfied: filelock in /usr/local/lib/python3.7/dist-packages (from transformers<5.0.0,>=4.6.0->sentence-transformers) (3.7.1)\n",
            "Requirement already satisfied: packaging>=20.0 in /usr/local/lib/python3.7/dist-packages (from transformers<5.0.0,>=4.6.0->sentence-transformers) (21.3)\n",
            "Requirement already satisfied: pyyaml>=5.1 in /usr/local/lib/python3.7/dist-packages (from transformers<5.0.0,>=4.6.0->sentence-transformers) (6.0)\n",
            "Requirement already satisfied: requests in /usr/local/lib/python3.7/dist-packages (from transformers<5.0.0,>=4.6.0->sentence-transformers) (2.23.0)\n",
            "Requirement already satisfied: tokenizers!=0.11.3,<0.13,>=0.11.1 in /usr/local/lib/python3.7/dist-packages (from transformers<5.0.0,>=4.6.0->sentence-transformers) (0.12.1)\n",
            "Requirement already satisfied: importlib-metadata in /usr/local/lib/python3.7/dist-packages (from transformers<5.0.0,>=4.6.0->sentence-transformers) (4.11.4)\n",
            "Requirement already satisfied: regex!=2019.12.17 in /usr/local/lib/python3.7/dist-packages (from transformers<5.0.0,>=4.6.0->sentence-transformers) (2022.6.2)\n",
            "Requirement already satisfied: pyparsing!=3.0.5,>=2.0.2 in /usr/local/lib/python3.7/dist-packages (from packaging>=20.0->transformers<5.0.0,>=4.6.0->sentence-transformers) (3.0.9)\n",
            "Requirement already satisfied: zipp>=0.5 in /usr/local/lib/python3.7/dist-packages (from importlib-metadata->transformers<5.0.0,>=4.6.0->sentence-transformers) (3.8.0)\n",
            "Requirement already satisfied: joblib in /usr/local/lib/python3.7/dist-packages (from nltk->sentence-transformers) (1.1.0)\n",
            "Requirement already satisfied: click in /usr/local/lib/python3.7/dist-packages (from nltk->sentence-transformers) (7.1.2)\n",
            "Requirement already satisfied: certifi>=2017.4.17 in /usr/local/lib/python3.7/dist-packages (from requests->transformers<5.0.0,>=4.6.0->sentence-transformers) (2022.6.15)\n",
            "Requirement already satisfied: idna<3,>=2.5 in /usr/local/lib/python3.7/dist-packages (from requests->transformers<5.0.0,>=4.6.0->sentence-transformers) (2.10)\n",
            "Requirement already satisfied: urllib3!=1.25.0,!=1.25.1,<1.26,>=1.21.1 in /usr/local/lib/python3.7/dist-packages (from requests->transformers<5.0.0,>=4.6.0->sentence-transformers) (1.24.3)\n",
            "Requirement already satisfied: chardet<4,>=3.0.2 in /usr/local/lib/python3.7/dist-packages (from requests->transformers<5.0.0,>=4.6.0->sentence-transformers) (3.0.4)\n",
            "Requirement already satisfied: threadpoolctl>=2.0.0 in /usr/local/lib/python3.7/dist-packages (from scikit-learn->sentence-transformers) (3.1.0)\n",
            "Requirement already satisfied: pillow!=8.3.*,>=5.3.0 in /usr/local/lib/python3.7/dist-packages (from torchvision->sentence-transformers) (7.1.2)\n"
          ]
        }
      ]
    },
    {
      "cell_type": "markdown",
      "source": [
        "Install ar-correcetor(auto correct)"
      ],
      "metadata": {
        "id": "vAxJRitvUVoB"
      }
    },
    {
      "cell_type": "code",
      "source": [
        "!pip install ar-corrector"
      ],
      "metadata": {
        "id": "So-9p4VOhrrM",
        "colab": {
          "base_uri": "https://localhost:8080/"
        },
        "outputId": "5e298f40-3b52-46b0-b401-81cac00cb23d"
      },
      "execution_count": null,
      "outputs": [
        {
          "output_type": "stream",
          "name": "stdout",
          "text": [
            "Looking in indexes: https://pypi.org/simple, https://us-python.pkg.dev/colab-wheels/public/simple/\n",
            "Requirement already satisfied: ar-corrector in /usr/local/lib/python3.7/dist-packages (1.1.6)\n",
            "Requirement already satisfied: requests in /usr/local/lib/python3.7/dist-packages (from ar-corrector) (2.23.0)\n",
            "Requirement already satisfied: chardet<4,>=3.0.2 in /usr/local/lib/python3.7/dist-packages (from requests->ar-corrector) (3.0.4)\n",
            "Requirement already satisfied: urllib3!=1.25.0,!=1.25.1,<1.26,>=1.21.1 in /usr/local/lib/python3.7/dist-packages (from requests->ar-corrector) (1.24.3)\n",
            "Requirement already satisfied: idna<3,>=2.5 in /usr/local/lib/python3.7/dist-packages (from requests->ar-corrector) (2.10)\n",
            "Requirement already satisfied: certifi>=2017.4.17 in /usr/local/lib/python3.7/dist-packages (from requests->ar-corrector) (2022.6.15)\n"
          ]
        }
      ]
    },
    {
      "cell_type": "markdown",
      "source": [
        "#Model Data"
      ],
      "metadata": {
        "id": "6pp2pXB13-5b"
      }
    },
    {
      "cell_type": "markdown",
      "source": [
        "## Data setting"
      ],
      "metadata": {
        "id": "qUEh6vRyOZ_O"
      }
    },
    {
      "cell_type": "code",
      "source": [
        "data=pd.read_csv(\"/content/drive/MyDrive/Rule based data /Fatawy_final_version.csv\")\n",
        "data"
      ],
      "metadata": {
        "id": "ypLIUZ-Z4qqm",
        "colab": {
          "base_uri": "https://localhost:8080/",
          "height": 424
        },
        "outputId": "afc6db2d-02c9-4fff-c77b-852110be55e8"
      },
      "execution_count": null,
      "outputs": [
        {
          "output_type": "execute_result",
          "data": {
            "text/plain": [
              "      Unnamed: 0  Unnamed: 0.1  \\\n",
              "0              0             0   \n",
              "1              1             1   \n",
              "2              2             2   \n",
              "3              3             3   \n",
              "4              4             4   \n",
              "...          ...           ...   \n",
              "4508        4508          4508   \n",
              "4509        4509          4509   \n",
              "4510        4510          4510   \n",
              "4511        4511          4511   \n",
              "4512        4512          4512   \n",
              "\n",
              "                                                الاسئله  \\\n",
              "0     قال سائل علم ليل قدر خير شهر حرص إسلام حث مسلم...   \n",
              "1     قال سائل حكم رخصة إفطار مسافر رمضان ذلك ٱستكمل...   \n",
              "2     جاز إفطار حامل مرض خاف صيام جنين ربيع هل لزم ق...   \n",
              "3     أراد سائل أقام حاجرا رخام مقبر أسرة حتى معروف ...   \n",
              "4       قاعدة نصب شريعة إسلامي تنمية ذبح شرعي حيوان طير   \n",
              "...                                                 ...   \n",
              "4508  أمر تم خطبة رجل عمل خارج لما أراد عقد طلب ٱسم ...   \n",
              "4509  تقدم طلب يد ٱبن عم فتفاجات أم أبلغ ٱبن عم أرضع...   \n",
              "4510  شاب أراد زواج فتاة رفعت والد أخت أصغر ركعة مطب...   \n",
              "4511                              خرج كفارة ني أم مطبوخ   \n",
              "4512                  حكم إخراج زكاة مال شكل إفطار صائم   \n",
              "\n",
              "                                               الاجابات  \\\n",
              "0     إن الله أخفى رضاه في طاعته؛ ليستزيد أصحاب الطا...   \n",
              "1     إن الله سبحانه وتعالى رخَّص للمسافر في رمضان أ...   \n",
              "2     يجوز للحامل والمرضع الإفطار إذا خافتا على الجن...   \n",
              "3     أجاز الأحناف كتابة اسم الميت فقط على القبر عند...   \n",
              "4     الذكاة الشرعية أي الذبح الشرعي معناه في شريعة ...   \n",
              "...                                                 ...   \n",
              "4508  هذا العقد باطل؛ لأنه لم يحصل فيه توكيل بعقد ال...   \n",
              "4509  إذا رضع كل منكما من زوجة العم هذه خمس رضعات مش...   \n",
              "4510  المقرر شرعًا أنه يحرم من الرضاع ما يحرم من الن...   \n",
              "4511  جمهور الفقهاء يشترطون في إخراج الكفارة التمليك...   \n",
              "4512  تفطير الصائمين أو ما يُعْرَف بـ\"موائد الرحمن\" ...   \n",
              "\n",
              "                                        التصنيف  \n",
              "0                                عبادات و الذكر  \n",
              "1                                       المسافر  \n",
              "2                                عبادات و الصوم  \n",
              "3                              عبادات و الجنائز  \n",
              "4                                   آداب وأخلاق  \n",
              "...                                         ...  \n",
              "4508                      مجتمع وأسرة من النكاح  \n",
              "4509                      مجتمع وأسرة من الرجاء  \n",
              "4510                      مجتمع وأسرة من الرجاء  \n",
              "4511  شؤون عادات و الذبائح في الأضحية في النذور  \n",
              "4512                            عبادات و الزكاة  \n",
              "\n",
              "[4513 rows x 5 columns]"
            ],
            "text/html": [
              "\n",
              "  <div id=\"df-2a7c4c55-a557-43b7-ae02-f18ef361d3c1\">\n",
              "    <div class=\"colab-df-container\">\n",
              "      <div>\n",
              "<style scoped>\n",
              "    .dataframe tbody tr th:only-of-type {\n",
              "        vertical-align: middle;\n",
              "    }\n",
              "\n",
              "    .dataframe tbody tr th {\n",
              "        vertical-align: top;\n",
              "    }\n",
              "\n",
              "    .dataframe thead th {\n",
              "        text-align: right;\n",
              "    }\n",
              "</style>\n",
              "<table border=\"1\" class=\"dataframe\">\n",
              "  <thead>\n",
              "    <tr style=\"text-align: right;\">\n",
              "      <th></th>\n",
              "      <th>Unnamed: 0</th>\n",
              "      <th>Unnamed: 0.1</th>\n",
              "      <th>الاسئله</th>\n",
              "      <th>الاجابات</th>\n",
              "      <th>التصنيف</th>\n",
              "    </tr>\n",
              "  </thead>\n",
              "  <tbody>\n",
              "    <tr>\n",
              "      <th>0</th>\n",
              "      <td>0</td>\n",
              "      <td>0</td>\n",
              "      <td>قال سائل علم ليل قدر خير شهر حرص إسلام حث مسلم...</td>\n",
              "      <td>إن الله أخفى رضاه في طاعته؛ ليستزيد أصحاب الطا...</td>\n",
              "      <td>عبادات و الذكر</td>\n",
              "    </tr>\n",
              "    <tr>\n",
              "      <th>1</th>\n",
              "      <td>1</td>\n",
              "      <td>1</td>\n",
              "      <td>قال سائل حكم رخصة إفطار مسافر رمضان ذلك ٱستكمل...</td>\n",
              "      <td>إن الله سبحانه وتعالى رخَّص للمسافر في رمضان أ...</td>\n",
              "      <td>المسافر</td>\n",
              "    </tr>\n",
              "    <tr>\n",
              "      <th>2</th>\n",
              "      <td>2</td>\n",
              "      <td>2</td>\n",
              "      <td>جاز إفطار حامل مرض خاف صيام جنين ربيع هل لزم ق...</td>\n",
              "      <td>يجوز للحامل والمرضع الإفطار إذا خافتا على الجن...</td>\n",
              "      <td>عبادات و الصوم</td>\n",
              "    </tr>\n",
              "    <tr>\n",
              "      <th>3</th>\n",
              "      <td>3</td>\n",
              "      <td>3</td>\n",
              "      <td>أراد سائل أقام حاجرا رخام مقبر أسرة حتى معروف ...</td>\n",
              "      <td>أجاز الأحناف كتابة اسم الميت فقط على القبر عند...</td>\n",
              "      <td>عبادات و الجنائز</td>\n",
              "    </tr>\n",
              "    <tr>\n",
              "      <th>4</th>\n",
              "      <td>4</td>\n",
              "      <td>4</td>\n",
              "      <td>قاعدة نصب شريعة إسلامي تنمية ذبح شرعي حيوان طير</td>\n",
              "      <td>الذكاة الشرعية أي الذبح الشرعي معناه في شريعة ...</td>\n",
              "      <td>آداب وأخلاق</td>\n",
              "    </tr>\n",
              "    <tr>\n",
              "      <th>...</th>\n",
              "      <td>...</td>\n",
              "      <td>...</td>\n",
              "      <td>...</td>\n",
              "      <td>...</td>\n",
              "      <td>...</td>\n",
              "    </tr>\n",
              "    <tr>\n",
              "      <th>4508</th>\n",
              "      <td>4508</td>\n",
              "      <td>4508</td>\n",
              "      <td>أمر تم خطبة رجل عمل خارج لما أراد عقد طلب ٱسم ...</td>\n",
              "      <td>هذا العقد باطل؛ لأنه لم يحصل فيه توكيل بعقد ال...</td>\n",
              "      <td>مجتمع وأسرة من النكاح</td>\n",
              "    </tr>\n",
              "    <tr>\n",
              "      <th>4509</th>\n",
              "      <td>4509</td>\n",
              "      <td>4509</td>\n",
              "      <td>تقدم طلب يد ٱبن عم فتفاجات أم أبلغ ٱبن عم أرضع...</td>\n",
              "      <td>إذا رضع كل منكما من زوجة العم هذه خمس رضعات مش...</td>\n",
              "      <td>مجتمع وأسرة من الرجاء</td>\n",
              "    </tr>\n",
              "    <tr>\n",
              "      <th>4510</th>\n",
              "      <td>4510</td>\n",
              "      <td>4510</td>\n",
              "      <td>شاب أراد زواج فتاة رفعت والد أخت أصغر ركعة مطب...</td>\n",
              "      <td>المقرر شرعًا أنه يحرم من الرضاع ما يحرم من الن...</td>\n",
              "      <td>مجتمع وأسرة من الرجاء</td>\n",
              "    </tr>\n",
              "    <tr>\n",
              "      <th>4511</th>\n",
              "      <td>4511</td>\n",
              "      <td>4511</td>\n",
              "      <td>خرج كفارة ني أم مطبوخ</td>\n",
              "      <td>جمهور الفقهاء يشترطون في إخراج الكفارة التمليك...</td>\n",
              "      <td>شؤون عادات و الذبائح في الأضحية في النذور</td>\n",
              "    </tr>\n",
              "    <tr>\n",
              "      <th>4512</th>\n",
              "      <td>4512</td>\n",
              "      <td>4512</td>\n",
              "      <td>حكم إخراج زكاة مال شكل إفطار صائم</td>\n",
              "      <td>تفطير الصائمين أو ما يُعْرَف بـ\"موائد الرحمن\" ...</td>\n",
              "      <td>عبادات و الزكاة</td>\n",
              "    </tr>\n",
              "  </tbody>\n",
              "</table>\n",
              "<p>4513 rows × 5 columns</p>\n",
              "</div>\n",
              "      <button class=\"colab-df-convert\" onclick=\"convertToInteractive('df-2a7c4c55-a557-43b7-ae02-f18ef361d3c1')\"\n",
              "              title=\"Convert this dataframe to an interactive table.\"\n",
              "              style=\"display:none;\">\n",
              "        \n",
              "  <svg xmlns=\"http://www.w3.org/2000/svg\" height=\"24px\"viewBox=\"0 0 24 24\"\n",
              "       width=\"24px\">\n",
              "    <path d=\"M0 0h24v24H0V0z\" fill=\"none\"/>\n",
              "    <path d=\"M18.56 5.44l.94 2.06.94-2.06 2.06-.94-2.06-.94-.94-2.06-.94 2.06-2.06.94zm-11 1L8.5 8.5l.94-2.06 2.06-.94-2.06-.94L8.5 2.5l-.94 2.06-2.06.94zm10 10l.94 2.06.94-2.06 2.06-.94-2.06-.94-.94-2.06-.94 2.06-2.06.94z\"/><path d=\"M17.41 7.96l-1.37-1.37c-.4-.4-.92-.59-1.43-.59-.52 0-1.04.2-1.43.59L10.3 9.45l-7.72 7.72c-.78.78-.78 2.05 0 2.83L4 21.41c.39.39.9.59 1.41.59.51 0 1.02-.2 1.41-.59l7.78-7.78 2.81-2.81c.8-.78.8-2.07 0-2.86zM5.41 20L4 18.59l7.72-7.72 1.47 1.35L5.41 20z\"/>\n",
              "  </svg>\n",
              "      </button>\n",
              "      \n",
              "  <style>\n",
              "    .colab-df-container {\n",
              "      display:flex;\n",
              "      flex-wrap:wrap;\n",
              "      gap: 12px;\n",
              "    }\n",
              "\n",
              "    .colab-df-convert {\n",
              "      background-color: #E8F0FE;\n",
              "      border: none;\n",
              "      border-radius: 50%;\n",
              "      cursor: pointer;\n",
              "      display: none;\n",
              "      fill: #1967D2;\n",
              "      height: 32px;\n",
              "      padding: 0 0 0 0;\n",
              "      width: 32px;\n",
              "    }\n",
              "\n",
              "    .colab-df-convert:hover {\n",
              "      background-color: #E2EBFA;\n",
              "      box-shadow: 0px 1px 2px rgba(60, 64, 67, 0.3), 0px 1px 3px 1px rgba(60, 64, 67, 0.15);\n",
              "      fill: #174EA6;\n",
              "    }\n",
              "\n",
              "    [theme=dark] .colab-df-convert {\n",
              "      background-color: #3B4455;\n",
              "      fill: #D2E3FC;\n",
              "    }\n",
              "\n",
              "    [theme=dark] .colab-df-convert:hover {\n",
              "      background-color: #434B5C;\n",
              "      box-shadow: 0px 1px 3px 1px rgba(0, 0, 0, 0.15);\n",
              "      filter: drop-shadow(0px 1px 2px rgba(0, 0, 0, 0.3));\n",
              "      fill: #FFFFFF;\n",
              "    }\n",
              "  </style>\n",
              "\n",
              "      <script>\n",
              "        const buttonEl =\n",
              "          document.querySelector('#df-2a7c4c55-a557-43b7-ae02-f18ef361d3c1 button.colab-df-convert');\n",
              "        buttonEl.style.display =\n",
              "          google.colab.kernel.accessAllowed ? 'block' : 'none';\n",
              "\n",
              "        async function convertToInteractive(key) {\n",
              "          const element = document.querySelector('#df-2a7c4c55-a557-43b7-ae02-f18ef361d3c1');\n",
              "          const dataTable =\n",
              "            await google.colab.kernel.invokeFunction('convertToInteractive',\n",
              "                                                     [key], {});\n",
              "          if (!dataTable) return;\n",
              "\n",
              "          const docLinkHtml = 'Like what you see? Visit the ' +\n",
              "            '<a target=\"_blank\" href=https://colab.research.google.com/notebooks/data_table.ipynb>data table notebook</a>'\n",
              "            + ' to learn more about interactive tables.';\n",
              "          element.innerHTML = '';\n",
              "          dataTable['output_type'] = 'display_data';\n",
              "          await google.colab.output.renderOutput(dataTable, element);\n",
              "          const docLink = document.createElement('div');\n",
              "          docLink.innerHTML = docLinkHtml;\n",
              "          element.appendChild(docLink);\n",
              "        }\n",
              "      </script>\n",
              "    </div>\n",
              "  </div>\n",
              "  "
            ]
          },
          "metadata": {},
          "execution_count": 6
        }
      ]
    },
    {
      "cell_type": "markdown",
      "source": [
        "# **Preprocessing And Auto correct**"
      ],
      "metadata": {
        "id": "1low25UlOSAT"
      }
    },
    {
      "cell_type": "markdown",
      "source": [
        "# **Auto Correct using AR-Corrector**"
      ],
      "metadata": {
        "id": "CFloS81MFJCk"
      }
    },
    {
      "cell_type": "code",
      "source": [
        "# from ar_corrector.corrector import Corrector"
      ],
      "metadata": {
        "id": "jziPyomDxLq4"
      },
      "execution_count": null,
      "outputs": []
    },
    {
      "cell_type": "code",
      "source": [
        "# corr = Corrector()#intializing the corrector\n",
        "#corr."
      ],
      "metadata": {
        "id": "9HVyC343xRBf"
      },
      "execution_count": null,
      "outputs": []
    },
    {
      "cell_type": "code",
      "source": [
        "\n",
        "# auto_correct_data=[]\n",
        "# for i in range(len(data)):\n",
        "#   data['auto_correct_data']= corr.contextual_correct(data['الاسئله'][i])\n",
        "#   auto_correct_data.append(corr.contextual_correct(data['الاجابات'][i]))\n",
        "  # print(i)\n",
        "# data['الاجابات'] = auto_correct_data\n",
        "# data\n"
      ],
      "metadata": {
        "id": "0wBsCKYsA8Sx"
      },
      "execution_count": null,
      "outputs": []
    },
    {
      "cell_type": "code",
      "source": [
        "# len(auto_correct_data)\\xa0  \\n  \\r \\t"
      ],
      "metadata": {
        "id": "hCD9n-1vC6pJ"
      },
      "execution_count": null,
      "outputs": []
    },
    {
      "cell_type": "code",
      "source": [
        "\n",
        "# auto_correct_data=[]\n",
        "# for i in range(len(data)):\n",
        "#   text=data['الاجابات'][i].replace('\\xa0','')\n",
        "#   text=text.replace('\\n','')\n",
        "#   text=text.replace('\\t','')\n",
        "#   text=text.replace('\\r','')\n",
        "#   text=text.replace('التفاصيل  ....','')\n",
        "#   auto_correct_data.append(text)\n",
        "#   # print(i)\n",
        "# data['الاجابات'] = auto_correct_data\n",
        "# data\n"
      ],
      "metadata": {
        "id": "NUEiUH0AeQUw"
      },
      "execution_count": null,
      "outputs": []
    },
    {
      "cell_type": "markdown",
      "source": [
        "# **Preprocessing using Arabert**"
      ],
      "metadata": {
        "id": "fY3g355uFQJH"
      }
    },
    {
      "cell_type": "code",
      "source": [
        "'''\n",
        "!git clone https://github.com/aub-mind/arabert\n",
        "!pip install pyarabic\n",
        "!pip install farasapy\n",
        "'''"
      ],
      "metadata": {
        "id": "N9xVFWcVFi_w",
        "colab": {
          "base_uri": "https://localhost:8080/",
          "height": 36
        },
        "outputId": "5c08e479-a373-41fc-a33b-d140f0abd394"
      },
      "execution_count": null,
      "outputs": [
        {
          "output_type": "execute_result",
          "data": {
            "text/plain": [
              "'\\n!git clone https://github.com/aub-mind/arabert\\n!pip install pyarabic\\n!pip install farasapy\\n'"
            ],
            "application/vnd.google.colaboratory.intrinsic+json": {
              "type": "string"
            }
          },
          "metadata": {},
          "execution_count": 14
        }
      ]
    },
    {
      "cell_type": "code",
      "source": [
        "'''\n",
        "from transformers import AutoTokenizer, AutoModel\n",
        "from arabert.preprocess import ArabertPreprocessor\n",
        "#prep = ArabertPreprocessor(\"aubmindlab/bert-base-arabertv02\")\n",
        "'''"
      ],
      "metadata": {
        "id": "hlxkJ_QYFjbG",
        "colab": {
          "base_uri": "https://localhost:8080/",
          "height": 36
        },
        "outputId": "a6c801f4-7c33-4be4-e1be-650976991fd1"
      },
      "execution_count": null,
      "outputs": [
        {
          "output_type": "execute_result",
          "data": {
            "text/plain": [
              "'\\nfrom transformers import AutoTokenizer, AutoModel\\nfrom arabert.preprocess import ArabertPreprocessor\\n#prep = ArabertPreprocessor(\"aubmindlab/bert-base-arabertv02\")\\n'"
            ],
            "application/vnd.google.colaboratory.intrinsic+json": {
              "type": "string"
            }
          },
          "metadata": {},
          "execution_count": 15
        }
      ]
    },
    {
      "cell_type": "code",
      "source": [
        "'''\n",
        "model_name = \"aubmindlab/bert-base-arabertv02\"\n",
        "arabert_model = AutoModel.from_pretrained(model_name)\n",
        "'''"
      ],
      "metadata": {
        "id": "HPPGXtHTFnTT",
        "colab": {
          "base_uri": "https://localhost:8080/",
          "height": 36
        },
        "outputId": "beeb02b6-31fb-4c03-f6d9-9eeaae93a327"
      },
      "execution_count": null,
      "outputs": [
        {
          "output_type": "execute_result",
          "data": {
            "text/plain": [
              "'\\nmodel_name = \"aubmindlab/bert-base-arabertv02\"\\narabert_model = AutoModel.from_pretrained(model_name)\\n'"
            ],
            "application/vnd.google.colaboratory.intrinsic+json": {
              "type": "string"
            }
          },
          "metadata": {},
          "execution_count": 16
        }
      ]
    },
    {
      "cell_type": "code",
      "source": [
        "#arabert_prep = ArabertPreprocessor(model_name=model_name)"
      ],
      "metadata": {
        "id": "N4jwSqdFFyoQ"
      },
      "execution_count": null,
      "outputs": []
    },
    {
      "cell_type": "code",
      "source": [
        "'''\n",
        "preprocessed_data=[]\n",
        "for i in range(len(data)):\n",
        "  #preprocessed_data.append(prep.preprocess(data['الاسئله'][i]))\n",
        "  preprocessed_data.append(arabert_prep.preprocess(data['data'][i]))\n",
        "data['Arabertv02']=preprocessed_data\n",
        "data\n",
        "'''"
      ],
      "metadata": {
        "id": "1eK8k4fHBpzx",
        "colab": {
          "base_uri": "https://localhost:8080/",
          "height": 53
        },
        "outputId": "aea1eadc-b7db-4926-f752-de4e187ae236"
      },
      "execution_count": null,
      "outputs": [
        {
          "output_type": "execute_result",
          "data": {
            "text/plain": [
              "\"\\npreprocessed_data=[]\\nfor i in range(len(data)):\\n  #preprocessed_data.append(prep.preprocess(data['الاسئله'][i]))\\n  preprocessed_data.append(arabert_prep.preprocess(data['data'][i]))\\ndata['Arabertv02']=preprocessed_data\\ndata\\n\""
            ],
            "application/vnd.google.colaboratory.intrinsic+json": {
              "type": "string"
            }
          },
          "metadata": {},
          "execution_count": 18
        }
      ]
    },
    {
      "cell_type": "markdown",
      "source": [
        "# **Preprocessing using Camel Tools**"
      ],
      "metadata": {
        "id": "WP9shis-RzPa"
      }
    },
    {
      "cell_type": "code",
      "source": [
        "!pip install camel-tools -f https://download.pytorch.org/whl/torch_stable.html\n"
      ],
      "metadata": {
        "id": "byfudSfWR6wX",
        "colab": {
          "base_uri": "https://localhost:8080/"
        },
        "outputId": "9938f71a-9530-4a63-eb50-277e5b83f625"
      },
      "execution_count": null,
      "outputs": [
        {
          "output_type": "stream",
          "name": "stdout",
          "text": [
            "Looking in indexes: https://pypi.org/simple, https://us-python.pkg.dev/colab-wheels/public/simple/\n",
            "Looking in links: https://download.pytorch.org/whl/torch_stable.html\n",
            "Collecting camel-tools\n",
            "  Downloading camel_tools-1.4.1-py3-none-any.whl (114 kB)\n",
            "\u001b[K     |████████████████████████████████| 114 kB 8.4 MB/s \n",
            "\u001b[?25hCollecting emoji\n",
            "  Downloading emoji-1.7.0.tar.gz (175 kB)\n",
            "\u001b[K     |████████████████████████████████| 175 kB 56.7 MB/s \n",
            "\u001b[?25hRequirement already satisfied: scipy in /usr/local/lib/python3.7/dist-packages (from camel-tools) (1.4.1)\n",
            "Requirement already satisfied: pyrsistent in /usr/local/lib/python3.7/dist-packages (from camel-tools) (0.18.1)\n",
            "Requirement already satisfied: six in /usr/local/lib/python3.7/dist-packages (from camel-tools) (1.15.0)\n",
            "Requirement already satisfied: docopt in /usr/local/lib/python3.7/dist-packages (from camel-tools) (0.6.2)\n",
            "Requirement already satisfied: cachetools in /usr/local/lib/python3.7/dist-packages (from camel-tools) (4.2.4)\n",
            "Requirement already satisfied: scikit-learn in /usr/local/lib/python3.7/dist-packages (from camel-tools) (1.0.2)\n",
            "Requirement already satisfied: torch>=1.3 in /usr/local/lib/python3.7/dist-packages (from camel-tools) (1.11.0+cu113)\n",
            "Requirement already satisfied: requests in /usr/local/lib/python3.7/dist-packages (from camel-tools) (2.23.0)\n",
            "Requirement already satisfied: tabulate in /usr/local/lib/python3.7/dist-packages (from camel-tools) (0.8.9)\n",
            "Requirement already satisfied: tqdm in /usr/local/lib/python3.7/dist-packages (from camel-tools) (4.64.0)\n",
            "Requirement already satisfied: pandas in /usr/local/lib/python3.7/dist-packages (from camel-tools) (1.3.5)\n",
            "Requirement already satisfied: editdistance in /usr/local/lib/python3.7/dist-packages (from camel-tools) (0.5.3)\n",
            "Collecting camel-kenlm\n",
            "  Downloading camel-kenlm-2021.12.27.tar.gz (418 kB)\n",
            "\u001b[K     |████████████████████████████████| 418 kB 62.3 MB/s \n",
            "\u001b[?25hRequirement already satisfied: future in /usr/local/lib/python3.7/dist-packages (from camel-tools) (0.16.0)\n",
            "Requirement already satisfied: numpy in /usr/local/lib/python3.7/dist-packages (from camel-tools) (1.21.6)\n",
            "Requirement already satisfied: dill in /usr/local/lib/python3.7/dist-packages (from camel-tools) (0.3.5.1)\n",
            "Requirement already satisfied: transformers>=3.0.2 in /usr/local/lib/python3.7/dist-packages (from camel-tools) (4.20.1)\n",
            "Requirement already satisfied: typing-extensions in /usr/local/lib/python3.7/dist-packages (from torch>=1.3->camel-tools) (4.1.1)\n",
            "Requirement already satisfied: importlib-metadata in /usr/local/lib/python3.7/dist-packages (from transformers>=3.0.2->camel-tools) (4.11.4)\n",
            "Requirement already satisfied: packaging>=20.0 in /usr/local/lib/python3.7/dist-packages (from transformers>=3.0.2->camel-tools) (21.3)\n",
            "Requirement already satisfied: tokenizers!=0.11.3,<0.13,>=0.11.1 in /usr/local/lib/python3.7/dist-packages (from transformers>=3.0.2->camel-tools) (0.12.1)\n",
            "Requirement already satisfied: regex!=2019.12.17 in /usr/local/lib/python3.7/dist-packages (from transformers>=3.0.2->camel-tools) (2022.6.2)\n",
            "Requirement already satisfied: huggingface-hub<1.0,>=0.1.0 in /usr/local/lib/python3.7/dist-packages (from transformers>=3.0.2->camel-tools) (0.8.1)\n",
            "Requirement already satisfied: filelock in /usr/local/lib/python3.7/dist-packages (from transformers>=3.0.2->camel-tools) (3.7.1)\n",
            "Requirement already satisfied: pyyaml>=5.1 in /usr/local/lib/python3.7/dist-packages (from transformers>=3.0.2->camel-tools) (6.0)\n",
            "Requirement already satisfied: pyparsing!=3.0.5,>=2.0.2 in /usr/local/lib/python3.7/dist-packages (from packaging>=20.0->transformers>=3.0.2->camel-tools) (3.0.9)\n",
            "Requirement already satisfied: zipp>=0.5 in /usr/local/lib/python3.7/dist-packages (from importlib-metadata->transformers>=3.0.2->camel-tools) (3.8.0)\n",
            "Requirement already satisfied: pytz>=2017.3 in /usr/local/lib/python3.7/dist-packages (from pandas->camel-tools) (2022.1)\n",
            "Requirement already satisfied: python-dateutil>=2.7.3 in /usr/local/lib/python3.7/dist-packages (from pandas->camel-tools) (2.8.2)\n",
            "Requirement already satisfied: certifi>=2017.4.17 in /usr/local/lib/python3.7/dist-packages (from requests->camel-tools) (2022.6.15)\n",
            "Requirement already satisfied: idna<3,>=2.5 in /usr/local/lib/python3.7/dist-packages (from requests->camel-tools) (2.10)\n",
            "Requirement already satisfied: chardet<4,>=3.0.2 in /usr/local/lib/python3.7/dist-packages (from requests->camel-tools) (3.0.4)\n",
            "Requirement already satisfied: urllib3!=1.25.0,!=1.25.1,<1.26,>=1.21.1 in /usr/local/lib/python3.7/dist-packages (from requests->camel-tools) (1.24.3)\n",
            "Requirement already satisfied: joblib>=0.11 in /usr/local/lib/python3.7/dist-packages (from scikit-learn->camel-tools) (1.1.0)\n",
            "Requirement already satisfied: threadpoolctl>=2.0.0 in /usr/local/lib/python3.7/dist-packages (from scikit-learn->camel-tools) (3.1.0)\n",
            "Building wheels for collected packages: camel-kenlm, emoji\n",
            "  Building wheel for camel-kenlm (setup.py) ... \u001b[?25l\u001b[?25hdone\n",
            "  Created wheel for camel-kenlm: filename=camel_kenlm-2021.12.27-cp37-cp37m-linux_x86_64.whl size=2333399 sha256=44858f2f4fc96d5d155d915a0912294efa7d7d224ce3b13b23d3cd3cab6770d3\n",
            "  Stored in directory: /root/.cache/pip/wheels/db/72/74/982f8c435f15b7feaf6dc8a03e212ff34e93f1f2d747059332\n",
            "  Building wheel for emoji (setup.py) ... \u001b[?25l\u001b[?25hdone\n",
            "  Created wheel for emoji: filename=emoji-1.7.0-py3-none-any.whl size=171046 sha256=b8508458d7eaf412edfa6bba3bfc8ee72fafa64895e077914d773967b98901e2\n",
            "  Stored in directory: /root/.cache/pip/wheels/8a/4e/b6/57b01db010d17ef6ea9b40300af725ef3e210cb1acfb7ac8b6\n",
            "Successfully built camel-kenlm emoji\n",
            "Installing collected packages: emoji, camel-kenlm, camel-tools\n",
            "Successfully installed camel-kenlm-2021.12.27 camel-tools-1.4.1 emoji-1.7.0\n"
          ]
        }
      ]
    },
    {
      "cell_type": "code",
      "source": [
        "!pip install camel-tools -f \n",
        "!camel_data -i all"
      ],
      "metadata": {
        "id": "RtL7NZBWS3Q6",
        "colab": {
          "base_uri": "https://localhost:8080/"
        },
        "outputId": "613b5bec-9d24-4102-fd7d-92c2b6343166"
      },
      "execution_count": null,
      "outputs": [
        {
          "output_type": "stream",
          "name": "stdout",
          "text": [
            "\n",
            "Usage:   \n",
            "  pip3 install [options] <requirement specifier> [package-index-options] ...\n",
            "  pip3 install [options] -r <requirements file> [package-index-options] ...\n",
            "  pip3 install [options] [-e] <vcs project url> ...\n",
            "  pip3 install [options] [-e] <local project path> ...\n",
            "  pip3 install [options] <archive url/path> ...\n",
            "\n",
            "-f option requires 1 argument\n",
            "The following packages will be installed: 'disambig-ranking-cache-calima-msa-r13', 'morphology-db-egy-r13', 'disambig-ranking-cache-calima-glf-01', 'disambig-ranking-cache-calima-egy-r13', 'disambig-mle-calima-egy-r13', 'sentiment-analysis-mbert', 'sentiment-analysis-arabert', 'disambig-mle-calima-msa-r13', 'ner-arabert', 'morphology-db-lev-01', 'morphology-db-msa-r13', 'morphology-db-glf-01', 'disambig-bert-unfactored-lev', 'disambig-ranking-cache-calima-lev-01', 'dialectid-default', 'disambig-bert-unfactored-egy', 'disambig-bert-unfactored-msa', 'disambig-bert-unfactored-glf'\n",
            "Downloading package 'disambig-ranking-cache-calima-msa-r13': 100% 519M/519M [00:15<00:00, 32.7MB/s]\n",
            "Extracting package 'disambig-ranking-cache-calima-msa-r13': 100% 519M/519M [00:01<00:00, 314MB/s]\n",
            "Downloading package 'morphology-db-egy-r13': 100% 67.3M/67.3M [00:02<00:00, 27.5MB/s]\n",
            "Extracting package 'morphology-db-egy-r13': 100% 67.3M/67.3M [00:00<00:00, 344MB/s]\n",
            "Downloading package 'disambig-ranking-cache-calima-glf-01': 100% 21.5M/21.5M [00:00<00:00, 28.7MB/s]\n",
            "Extracting package 'disambig-ranking-cache-calima-glf-01': 100% 21.5M/21.5M [00:00<00:00, 338MB/s]\n",
            "Downloading package 'disambig-ranking-cache-calima-egy-r13': 100% 289M/289M [00:22<00:00, 13.1MB/s]\n",
            "Extracting package 'disambig-ranking-cache-calima-egy-r13': 100% 289M/289M [00:00<00:00, 340MB/s]\n",
            "Downloading package 'disambig-mle-calima-egy-r13': 100% 27.2M/27.2M [00:01<00:00, 17.6MB/s]\n",
            "Extracting package 'disambig-mle-calima-egy-r13': 100% 27.2M/27.2M [00:00<00:00, 334MB/s]\n",
            "Downloading package 'sentiment-analysis-mbert': 100% 712M/712M [00:33<00:00, 21.5MB/s]\n",
            "Extracting package 'sentiment-analysis-mbert': 100% 712M/712M [00:02<00:00, 298MB/s]\n",
            "Downloading package 'sentiment-analysis-arabert': 100% 542M/542M [00:33<00:00, 16.1MB/s]\n",
            "Extracting package 'sentiment-analysis-arabert': 100% 542M/542M [00:01<00:00, 330MB/s]\n",
            "Downloading package 'disambig-mle-calima-msa-r13': 100% 88.7M/88.7M [00:02<00:00, 35.6MB/s]\n",
            "Extracting package 'disambig-mle-calima-msa-r13': 100% 88.7M/88.7M [00:00<00:00, 343MB/s]\n",
            "Downloading package 'ner-arabert': 100% 542M/542M [00:28<00:00, 19.0MB/s]\n",
            "Extracting package 'ner-arabert': 100% 542M/542M [00:01<00:00, 329MB/s]\n",
            "Downloading package 'morphology-db-lev-01': 100% 10.6M/10.6M [00:01<00:00, 9.36MB/s]\n",
            "Extracting package 'morphology-db-lev-01': 100% 10.6M/10.6M [00:00<00:00, 359MB/s]\n",
            "Downloading package 'morphology-db-msa-r13': 100% 40.5M/40.5M [00:01<00:00, 21.1MB/s]\n",
            "Extracting package 'morphology-db-msa-r13': 100% 40.5M/40.5M [00:00<00:00, 339MB/s]\n",
            "Downloading package 'morphology-db-glf-01': 100% 7.98M/7.98M [00:00<00:00, 37.1MB/s]\n",
            "Extracting package 'morphology-db-glf-01': 100% 7.98M/7.98M [00:00<00:00, 338MB/s]\n",
            "Downloading package 'disambig-bert-unfactored-lev': 100% 441M/441M [00:32<00:00, 13.4MB/s]\n",
            "Extracting package 'disambig-bert-unfactored-lev': 100% 441M/441M [00:01<00:00, 328MB/s]\n",
            "Downloading package 'disambig-ranking-cache-calima-lev-01': 100% 18.3M/18.3M [00:01<00:00, 15.3MB/s]\n",
            "Extracting package 'disambig-ranking-cache-calima-lev-01': 100% 18.3M/18.3M [00:00<00:00, 336MB/s]\n",
            "Downloading package 'dialectid-default': 100% 282M/282M [00:08<00:00, 32.9MB/s]\n",
            "Extracting package 'dialectid-default': 100% 282M/282M [00:00<00:00, 306MB/s]\n",
            "Downloading package 'disambig-bert-unfactored-egy': 100% 446M/446M [00:16<00:00, 27.2MB/s]\n",
            "Extracting package 'disambig-bert-unfactored-egy': 100% 446M/446M [00:01<00:00, 320MB/s]\n",
            "Downloading package 'disambig-bert-unfactored-msa': 100% 445M/445M [00:29<00:00, 15.0MB/s]\n",
            "Extracting package 'disambig-bert-unfactored-msa': 100% 445M/445M [00:01<00:00, 325MB/s]\n",
            "Downloading package 'disambig-bert-unfactored-glf': 100% 442M/442M [00:16<00:00, 26.1MB/s]\n",
            "Extracting package 'disambig-bert-unfactored-glf': 100% 442M/442M [00:01<00:00, 327MB/s]\n"
          ]
        }
      ]
    },
    {
      "cell_type": "code",
      "source": [
        "# -*- coding: utf-8 -*- #to be able to process arabic\n",
        "import pandas as pd\n",
        "import re\n",
        "from camel_tools.utils.dediac import dediac_ar\n",
        "from camel_tools.utils.charsets import AR_LETTERS_CHARSET\n",
        "from camel_tools.utils.normalize import normalize_alef_maksura_ar\n",
        "from camel_tools.utils.normalize import normalize_alef_ar\n",
        "from camel_tools.utils.normalize import normalize_teh_marbuta_ar\n",
        "from camel_tools.utils.normalize import normalize_unicode\n",
        "from camel_tools.tokenizers.word import simple_word_tokenize\n",
        "from camel_tools.morphology.database import MorphologyDB\n",
        "from camel_tools.morphology.analyzer import Analyzer\n",
        "from camel_tools.disambig.mle import MLEDisambiguator\n",
        "mle_pretrained = MLEDisambiguator.pretrained()"
      ],
      "metadata": {
        "id": "VEYTl3qAS6qo"
      },
      "execution_count": null,
      "outputs": []
    },
    {
      "cell_type": "code",
      "source": [
        "stopwords = []\n",
        "with open('/content/drive/MyDrive/Rule based data /arabic-stop-words-master/list.txt', encoding='utf8') as file:\n",
        "    for line in file:\n",
        "        stopwords.append(line.strip())\n",
        "print(stopwords)\n",
        "print(type(stopwords))  "
      ],
      "metadata": {
        "id": "FNSK-mOaS9YO",
        "colab": {
          "base_uri": "https://localhost:8080/"
        },
        "outputId": "9babe4a9-d5cd-4fd3-eb1a-7d5a847d8508"
      },
      "execution_count": null,
      "outputs": [
        {
          "output_type": "stream",
          "name": "stdout",
          "text": [
            "['،', 'ء', 'ءَ', 'آ', 'آب', 'آذار', 'آض', 'آل', 'آمينَ', 'آناء', 'آنفا', 'آه', 'آهاً', 'آهٍ', 'آهِ', 'أ', 'أبدا', 'أبريل', 'أبو', 'أبٌ', 'أجل', 'أجمع', 'أحد', 'أخبر', 'أخذ', 'أخو', 'أخٌ', 'أربع', 'أربعاء', 'أربعة', 'أربعمئة', 'أربعمائة', 'أرى', 'أسكن', 'أصبح', 'أصلا', 'أضحى', 'أطعم', 'أعطى', 'أعلم', 'أغسطس', 'أفريل', 'أفعل به', 'أفٍّ', 'أقبل', 'أكتوبر', 'أل', 'ألا', 'ألف', 'ألفى', 'أم', 'أما', 'أمام', 'أمامك', 'أمامكَ', 'أمد', 'أمس', 'أمسى', 'أمّا', 'أن', 'أنا', 'أنبأ', 'أنت', 'أنتم', 'أنتما', 'أنتن', 'أنتِ', 'أنشأ', 'أنه', 'أنًّ', 'أنّى', 'أهلا', 'أو', 'أوت', 'أوشك', 'أول', 'أولئك', 'أولاء', 'أولالك', 'أوّهْ', 'أى', 'أي', 'أيا', 'أيار', 'أيضا', 'أيلول', 'أين', 'أيّ', 'أيّان', 'أُفٍّ', 'ؤ', 'إحدى', 'إذ', 'إذا', 'إذاً', 'إذما', 'إذن', 'إزاء', 'إلى', 'إلي', 'إليكم', 'إليكما', 'إليكنّ', 'إليكَ', 'إلَيْكَ', 'إلّا', 'إمّا', 'إن', 'إنَّ', 'إى', 'إياك', 'إياكم', 'إياكما', 'إياكن', 'إيانا', 'إياه', 'إياها', 'إياهم', 'إياهما', 'إياهن', 'إياي', 'إيهٍ', 'ئ', 'ا', 'ا?', 'ا?ى', 'االا', 'االتى', 'ابتدأ', 'ابين', 'اتخذ', 'اثر', 'اثنا', 'اثنان', 'اثني', 'اثنين', 'اجل', 'احد', 'اخرى', 'اخلولق', 'اذا', 'اربعة', 'اربعون', 'اربعين', 'ارتدّ', 'استحال', 'اصبح', 'اضحى', 'اطار', 'اعادة', 'اعلنت', 'اف', 'اكثر', 'اكد', 'الآن', 'الألاء', 'الألى', 'الا', 'الاخيرة', 'الان', 'الاول', 'الاولى', 'التى', 'التي', 'الثاني', 'الثانية', 'الحالي', 'الذاتي', 'الذى', 'الذي', 'الذين', 'السابق', 'الف', 'اللاتي', 'اللتان', 'اللتيا', 'اللتين', 'اللذان', 'اللذين', 'اللواتي', 'الماضي', 'المقبل', 'الوقت', 'الى', 'الي', 'اليه', 'اليها', 'اليوم', 'اما', 'امام', 'امس', 'امسى', 'ان', 'انبرى', 'انقلب', 'انه', 'انها', 'او', 'اول', 'اي', 'ايار', 'ايام', 'ايضا', 'ب', 'بؤسا', 'بإن', 'بئس', 'باء', 'بات', 'باسم', 'بان', 'بخٍ', 'بد', 'بدلا', 'برس', 'بسبب', 'بسّ', 'بشكل', 'بضع', 'بطآن', 'بعد', 'بعدا', 'بعض', 'بغتة', 'بل', 'بلى', 'بن', 'به', 'بها', 'بهذا', 'بيد', 'بين', 'بَسْ', 'بَلْهَ', 'ة', 'ت', 'تاء', 'تارة', 'تاسع', 'تانِ', 'تانِك', 'تبدّل', 'تجاه', 'تحت', 'تحوّل', 'تخذ', 'ترك', 'تسع', 'تسعة', 'تسعمئة', 'تسعمائة', 'تسعون', 'تسعين', 'تشرين', 'تعسا', 'تعلَّم', 'تفعلان', 'تفعلون', 'تفعلين', 'تكون', 'تلقاء', 'تلك', 'تم', 'تموز', 'تينك', 'تَيْنِ', 'تِه', 'تِي', 'ث', 'ثاء', 'ثالث', 'ثامن', 'ثان', 'ثاني', 'ثلاث', 'ثلاثاء', 'ثلاثة', 'ثلاثمئة', 'ثلاثمائة', 'ثلاثون', 'ثلاثين', 'ثم', 'ثمان', 'ثمانمئة', 'ثمانون', 'ثماني', 'ثمانية', 'ثمانين', 'ثمنمئة', 'ثمَّ', 'ثمّ', 'ثمّة', 'ج', 'جانفي', 'جدا', 'جعل', 'جلل', 'جمعة', 'جميع', 'جنيه', 'جوان', 'جويلية', 'جير', 'جيم', 'ح', 'حاء', 'حادي', 'حار', 'حاشا', 'حاليا', 'حاي', 'حبذا', 'حبيب', 'حتى', 'حجا', 'حدَث', 'حرى', 'حزيران', 'حسب', 'حقا', 'حمدا', 'حمو', 'حمٌ', 'حوالى', 'حول', 'حيث', 'حيثما', 'حين', 'حيَّ', 'حَذارِ', 'خ', 'خاء', 'خاصة', 'خال', 'خامس', 'خبَّر', 'خلا', 'خلافا', 'خلال', 'خلف', 'خمس', 'خمسة', 'خمسمئة', 'خمسمائة', 'خمسون', 'خمسين', 'خميس', 'د', 'دال', 'درهم', 'درى', 'دواليك', 'دولار', 'دون', 'دونك', 'ديسمبر', 'دينار', 'ذ', 'ذا', 'ذات', 'ذاك', 'ذال', 'ذانك', 'ذانِ', 'ذلك', 'ذهب', 'ذو', 'ذيت', 'ذينك', 'ذَيْنِ', 'ذِه', 'ذِي', 'ر', 'رأى', 'راء', 'رابع', 'راح', 'رجع', 'رزق', 'رويدك', 'ريال', 'ريث', 'رُبَّ', 'ز', 'زاي', 'زعم', 'زود', 'زيارة', 'س', 'ساء', 'سابع', 'سادس', 'سبت', 'سبتمبر', 'سبحان', 'سبع', 'سبعة', 'سبعمئة', 'سبعمائة', 'سبعون', 'سبعين', 'ست', 'ستة', 'ستكون', 'ستمئة', 'ستمائة', 'ستون', 'ستين', 'سحقا', 'سرا', 'سرعان', 'سقى', 'سمعا', 'سنة', 'سنتيم', 'سنوات', 'سوف', 'سوى', 'سين', 'ش', 'شباط', 'شبه', 'شتانَ', 'شخصا', 'شرع', 'شمال', 'شيكل', 'شين', 'شَتَّانَ', 'ص', 'صاد', 'صار', 'صباح', 'صبر', 'صبرا', 'صدقا', 'صراحة', 'صفر', 'صهٍ', 'صهْ', 'ض', 'ضاد', 'ضحوة', 'ضد', 'ضمن', 'ط', 'طاء', 'طاق', 'طالما', 'طرا', 'طفق', 'طَق', 'ظ', 'ظاء', 'ظل', 'ظلّ', 'ظنَّ', 'ع', 'عاد', 'عاشر', 'عام', 'عاما', 'عامة', 'عجبا', 'عدا', 'عدة', 'عدد', 'عدم', 'عدَّ', 'عسى', 'عشر', 'عشرة', 'عشرون', 'عشرين', 'عل', 'علق', 'علم', 'على', 'علي', 'عليك', 'عليه', 'عليها', 'علًّ', 'عن', 'عند', 'عندما', 'عنه', 'عنها', 'عوض', 'عيانا', 'عين', 'عَدَسْ', 'غ', 'غادر', 'غالبا', 'غدا', 'غداة', 'غير', 'غين', 'ـ', 'ف', 'فإن', 'فاء', 'فان', 'فانه', 'فبراير', 'فرادى', 'فضلا', 'فقد', 'فقط', 'فكان', 'فلان', 'فلس', 'فهو', 'فو', 'فوق', 'فى', 'في', 'فيفري', 'فيه', 'فيها', 'ق', 'قاطبة', 'قاف', 'قال', 'قام', 'قبل', 'قد', 'قرش', 'قطّ', 'قلما', 'قوة', 'ك', 'كأن', 'كأنّ', 'كأيّ', 'كأيّن', 'كاد', 'كاف', 'كان', 'كانت', 'كانون', 'كثيرا', 'كذا', 'كذلك', 'كرب', 'كسا', 'كل', 'كلتا', 'كلم', 'كلَّا', 'كلّما', 'كم', 'كما', 'كن', 'كى', 'كيت', 'كيف', 'كيفما', 'كِخ', 'ل', 'لأن', 'لا', 'لا سيما', 'لات', 'لازال', 'لاسيما', 'لام', 'لايزال', 'لبيك', 'لدن', 'لدى', 'لدي', 'لذلك', 'لعل', 'لعلَّ', 'لعمر', 'لقاء', 'لكن', 'لكنه', 'لكنَّ', 'للامم', 'لم', 'لما', 'لمّا', 'لن', 'له', 'لها', 'لهذا', 'لهم', 'لو', 'لوكالة', 'لولا', 'لوما', 'ليت', 'ليرة', 'ليس', 'ليسب', 'م', 'مئة', 'مئتان', 'ما', 'ما أفعله', 'ما انفك', 'ما برح', 'مائة', 'ماانفك', 'مابرح', 'مادام', 'ماذا', 'مارس', 'مازال', 'مافتئ', 'ماي', 'مايزال', 'مايو', 'متى', 'مثل', 'مذ', 'مرّة', 'مساء', 'مع', 'معاذ', 'معه', 'معها', 'مقابل', 'مكانكم', 'مكانكما', 'مكانكنّ', 'مكانَك', 'مليار', 'مليم', 'مليون', 'مما', 'من', 'منذ', 'منه', 'منها', 'مه', 'مهما', 'ميم', 'ن', 'نا', 'نبَّا', 'نحن', 'نحو', 'نعم', 'نفس', 'نفسه', 'نهاية', 'نوفمبر', 'نون', 'نيسان', 'نيف', 'نَخْ', 'نَّ', 'ه', 'هؤلاء', 'ها', 'هاء', 'هاكَ', 'هبّ', 'هذا', 'هذه', 'هل', 'هللة', 'هلم', 'هلّا', 'هم', 'هما', 'همزة', 'هن', 'هنا', 'هناك', 'هنالك', 'هو', 'هي', 'هيا', 'هيهات', 'هيّا', 'هَؤلاء', 'هَاتانِ', 'هَاتَيْنِ', 'هَاتِه', 'هَاتِي', 'هَجْ', 'هَذا', 'هَذانِ', 'هَذَيْنِ', 'هَذِه', 'هَذِي', 'هَيْهات', 'و', 'و6', 'وأبو', 'وأن', 'وا', 'واحد', 'واضاف', 'واضافت', 'واكد', 'والتي', 'والذي', 'وان', 'واهاً', 'واو', 'واوضح', 'وبين', 'وثي', 'وجد', 'وراءَك', 'ورد', 'وعلى', 'وفي', 'وقال', 'وقالت', 'وقد', 'وقف', 'وكان', 'وكانت', 'ولا', 'ولايزال', 'ولكن', 'ولم', 'وله', 'وليس', 'ومع', 'ومن', 'وهب', 'وهذا', 'وهو', 'وهي', 'وَيْ', 'وُشْكَانَ', 'ى', 'ي', 'ياء', 'يفعلان', 'يفعلون', 'يكون', 'يلي', 'يمكن', 'يمين', 'ين', 'يناير', 'يوان', 'يورو', 'يوليو', 'يوم', 'يونيو', 'ّأيّان']\n",
            "<class 'list'>\n"
          ]
        }
      ]
    },
    {
      "cell_type": "code",
      "source": [
        "def clean_text(text):\n",
        "    sentence_ar_dediac = dediac_ar(text) #dediacritization using camel tools\n",
        "    sentence_ar_dediac = re.sub(r\"\\S*https?:\\S*|@\\S+\", \"\", sentence_ar_dediac) #remove URLs and mentions even if they are in paranthesis or brackets\n",
        "    no_punc = \"\"\n",
        "    for char in sentence_ar_dediac:\n",
        "        if char in (list(AR_LETTERS_CHARSET)+[\" \"]): #removing any thing that is not an arabic letter\n",
        "            no_punc = no_punc + char\n",
        "    return no_punc"
      ],
      "metadata": {
        "id": "nLdLp2A8TOPd"
      },
      "execution_count": null,
      "outputs": []
    },
    {
      "cell_type": "code",
      "source": [
        "def normalize_text(text):\n",
        "    cleaned_text = normalize_alef_maksura_ar(text)\n",
        "    cleaned_text = normalize_alef_ar(cleaned_text)\n",
        "    cleaned_text = normalize_teh_marbuta_ar(cleaned_text)\n",
        "    cleaned_text = normalize_unicode(cleaned_text)\n",
        "    \n",
        "    return cleaned_text"
      ],
      "metadata": {
        "id": "uIxhnuoLTR0C"
      },
      "execution_count": null,
      "outputs": []
    },
    {
      "cell_type": "code",
      "source": [
        "def enrichement(text, stopwords=stopwords, mle_pretrained=mle_pretrained):\n",
        "    tokens = simple_word_tokenize(text) #tokenize the sentence\n",
        "    tokenized = []\n",
        "    for token in tokens: #remove stop words\n",
        "        if token not in stopwords:\n",
        "            tokenized.append(token)     \n",
        "    disambig = mle_pretrained.disambiguate(tokenized) #return each word to its base form\n",
        "    lemmas = [d.analyses[0].analysis['lex'] for d in disambig]\n",
        "    whole_sent = \" \".join(lemmas) # join to get the whole sentence\n",
        "    whole_sent_dediac = dediac_ar(whole_sent) #diacritize the sentence \n",
        "    return whole_sent_dediac"
      ],
      "metadata": {
        "id": "BKm3fNr3TURu"
      },
      "execution_count": null,
      "outputs": []
    },
    {
      "cell_type": "code",
      "source": [
        "def preprocess_text(text, clean_text=clean_text, normalize_text=normalize_text, enrichement=enrichement):\n",
        "    '''\n",
        "    Inputs:\n",
        "    text: string in which it will preprocess.\n",
        "    \n",
        "    Outputs:\n",
        "    cleaned_text: the string after it was processed.\n",
        "    '''\n",
        "    \n",
        "    #let's first start with cleaning \n",
        "    cleaned = clean_text(text)\n",
        "            \n",
        "    # now, for the normalization part\n",
        "    normalized = normalize_text(cleaned)\n",
        "    \n",
        "    #enrichement\n",
        "    enriched = enrichement(normalized)\n",
        "    \n",
        "    return enriched"
      ],
      "metadata": {
        "id": "H1EudXcmTWxS"
      },
      "execution_count": null,
      "outputs": []
    },
    {
      "cell_type": "code",
      "source": [
        "def preprocess_data(data, preprocess_text=preprocess_text):\n",
        "    '''\n",
        "    Inputs:\n",
        "    data: is the dataframe we want to apply our function on\n",
        "    \n",
        "    Outputs:\n",
        "    data: the dataframe after applying the cleaning and normalization on each cell.\n",
        "    \n",
        "    '''\n",
        "\n",
        "    for row in range(data.shape[0]):\n",
        "       \n",
        "            for_cleaning = str(data.iloc[row][0])\n",
        "            data.iloc[row][0] = preprocess_text(for_cleaning)\n",
        "    return data\n",
        "     "
      ],
      "metadata": {
        "id": "XBJ0VNkvTZHv"
      },
      "execution_count": null,
      "outputs": []
    },
    {
      "cell_type": "code",
      "source": [
        "\n",
        "# data_prep=[]\n",
        "# for row in range(data.shape[0]):\n",
        "       \n",
        "#         #for_cleaning = str(data.iloc[row][3])\n",
        "#         data_prep.append(preprocess_text(data.iloc[row][3]))\n",
        "   "
      ],
      "metadata": {
        "id": "Q54FpG_STboA"
      },
      "execution_count": null,
      "outputs": []
    },
    {
      "cell_type": "markdown",
      "source": [
        "#The Model"
      ],
      "metadata": {
        "id": "zUeqf2fiQ0Q6"
      }
    },
    {
      "cell_type": "code",
      "execution_count": null,
      "metadata": {
        "id": "j4uKtPVE3BgA",
        "colab": {
          "base_uri": "https://localhost:8080/"
        },
        "outputId": "cdb2c06c-8af4-4255-a63a-f984bd2401fd"
      },
      "outputs": [
        {
          "output_type": "stream",
          "name": "stderr",
          "text": [
            "/usr/local/lib/python3.7/dist-packages/huggingface_hub/snapshot_download.py:11: FutureWarning: snapshot_download.py has been made private and will no longer be available from version 0.11. Please use `from huggingface_hub import snapshot_download` to import the only public function in this module. Other members of the file may be changed without a deprecation notice.\n",
            "  FutureWarning,\n"
          ]
        }
      ],
      "source": [
        "from sentence_transformers import SentenceTransformer\n",
        "model_name=\"aubmindlab/bert-base-arabertv02\""
      ]
    },
    {
      "cell_type": "code",
      "source": [
        "from sentence_transformers import SentenceTransformer"
      ],
      "metadata": {
        "id": "FthlbAOaO429"
      },
      "execution_count": null,
      "outputs": []
    },
    {
      "cell_type": "code",
      "source": [
        "model = SentenceTransformer(model_name)"
      ],
      "metadata": {
        "id": "glgxk3ijMWDq",
        "colab": {
          "base_uri": "https://localhost:8080/"
        },
        "outputId": "7841825e-1f8a-48f0-b71e-8ed766afcb6a"
      },
      "execution_count": null,
      "outputs": [
        {
          "output_type": "stream",
          "name": "stderr",
          "text": [
            "/usr/local/lib/python3.7/dist-packages/huggingface_hub/file_download.py:563: FutureWarning: `cached_download` is the legacy way to download files from the HF hub, please consider upgrading to `hf_hub_download`\n",
            "  FutureWarning,\n",
            "WARNING:root:No sentence-transformers model found with name /root/.cache/torch/sentence_transformers/aubmindlab_bert-base-arabertv02. Creating a new one with MEAN pooling.\n",
            "Some weights of the model checkpoint at /root/.cache/torch/sentence_transformers/aubmindlab_bert-base-arabertv02 were not used when initializing BertModel: ['cls.predictions.transform.dense.bias', 'cls.predictions.transform.LayerNorm.bias', 'cls.seq_relationship.weight', 'cls.predictions.transform.dense.weight', 'cls.predictions.bias', 'cls.predictions.transform.LayerNorm.weight', 'cls.predictions.decoder.weight', 'cls.seq_relationship.bias', 'cls.predictions.decoder.bias']\n",
            "- This IS expected if you are initializing BertModel from the checkpoint of a model trained on another task or with another architecture (e.g. initializing a BertForSequenceClassification model from a BertForPreTraining model).\n",
            "- This IS NOT expected if you are initializing BertModel from the checkpoint of a model that you expect to be exactly identical (initializing a BertForSequenceClassification model from a BertForSequenceClassification model).\n"
          ]
        }
      ]
    },
    {
      "cell_type": "markdown",
      "source": [
        "#Evaluation\n"
      ],
      "metadata": {
        "id": "sY7wPwoGh6cJ"
      }
    },
    {
      "cell_type": "code",
      "source": [
        "data.to_csv(\"/content/drive/MyDrive/Rule based data /Fatawy_final_version.csv\")"
      ],
      "metadata": {
        "id": "XA2yqNd9wJnd"
      },
      "execution_count": null,
      "outputs": []
    },
    {
      "cell_type": "code",
      "source": [
        "k = 2\n",
        "size = 3000"
      ],
      "metadata": {
        "id": "S7iwhcxLGpw5"
      },
      "execution_count": null,
      "outputs": []
    },
    {
      "cell_type": "code",
      "source": [
        "for i in range(k):\n",
        "    df = data[size*i:size*(i+1)]\n",
        "    #df.to_csv(f'Customers_{i+1}.csv', index=False)\n",
        "    if i==0:\n",
        "        df.to_csv(f'/content/drive/MyDrive/Rule based data /Fatawy_final_version_train.csv', index=False)\n",
        "    else:\n",
        "      df.to_csv(f'/content/drive/MyDrive/Rule based data /Fatawy_final_version_test.csv', index=False)\n",
        "    #  /content/drive/MyDrive/Rule based data /Fatawy with auto correct and preprocessing"
      ],
      "metadata": {
        "id": "M00Q0fXLGtnQ"
      },
      "execution_count": null,
      "outputs": []
    },
    {
      "cell_type": "code",
      "source": [
        "train = pd.read_csv(\"/content/drive/MyDrive/Rule based data /Fatawy_final_version_train.csv\")\n",
        "#print(train)\n",
        "print('test///////////////////////////////////')\n",
        "val = pd.read_csv(\"/content/drive/MyDrive/Rule based data /Fatawy_final_version_test.csv\")\n",
        "#print(valid)"
      ],
      "metadata": {
        "colab": {
          "base_uri": "https://localhost:8080/"
        },
        "id": "p6XV0rfxGvje",
        "outputId": "e4c15d09-15e0-41c3-de49-4b1ce5970af8"
      },
      "execution_count": null,
      "outputs": [
        {
          "output_type": "stream",
          "name": "stdout",
          "text": [
            "test///////////////////////////////////\n"
          ]
        }
      ]
    },
    {
      "cell_type": "code",
      "source": [
        "train"
      ],
      "metadata": {
        "colab": {
          "base_uri": "https://localhost:8080/",
          "height": 424
        },
        "id": "EJ8ArVkBGy5y",
        "outputId": "c20cd808-e007-4bd7-9e5b-4b719da54ac1"
      },
      "execution_count": null,
      "outputs": [
        {
          "output_type": "execute_result",
          "data": {
            "text/plain": [
              "      Unnamed: 0  Unnamed: 0.1  \\\n",
              "0              0             0   \n",
              "1              1             1   \n",
              "2              2             2   \n",
              "3              3             3   \n",
              "4              4             4   \n",
              "...          ...           ...   \n",
              "2995        2995          2995   \n",
              "2996        2996          2996   \n",
              "2997        2997          2997   \n",
              "2998        2998          2998   \n",
              "2999        2999          2999   \n",
              "\n",
              "                                                الاسئله  \\\n",
              "0     قال سائل علم ليل قدر خير شهر حرص إسلام حث مسلم...   \n",
              "1     قال سائل حكم رخصة إفطار مسافر رمضان ذلك ٱستكمل...   \n",
              "2     جاز إفطار حامل مرض خاف صيام جنين ربيع هل لزم ق...   \n",
              "3     أراد سائل أقام حاجرا رخام مقبر أسرة حتى معروف ...   \n",
              "4       قاعدة نصب شريعة إسلامي تنمية ذبح شرعي حيوان طير   \n",
              "...                                                 ...   \n",
              "2995  حكم ٱستخدام وسيلة قتل حيوان ضال شارع بين سم أد...   \n",
              "2996            حكم إلقاء قمامة حيوان نافق ماء نيل سرعة   \n",
              "2997  توفى والد رحم الله ترك أربع ولد والد ثلاث بالغ...   \n",
              "2998  رجل تقرر نفقة زوج زوجة ولد حكم نهائي نفذ ربع م...   \n",
              "2999  رن تلفون ثني تأدية مرء أحد صلاة خمس منتظر مكال...   \n",
              "\n",
              "                                               الاجابات  \\\n",
              "0     إن الله أخفى رضاه في طاعته؛ ليستزيد أصحاب الطا...   \n",
              "1     إن الله سبحانه وتعالى رخَّص للمسافر في رمضان أ...   \n",
              "2     يجوز للحامل والمرضع الإفطار إذا خافتا على الجن...   \n",
              "3     أجاز الأحناف كتابة اسم الميت فقط على القبر عند...   \n",
              "4     الذكاة الشرعية أي الذبح الشرعي معناه في شريعة ...   \n",
              "...                                                 ...   \n",
              "2995  لا يجوز قتل الحيوانات الضالَّة إلَّا ما تحقق ض...   \n",
              "2996  يحرم شرعًا إلقاء القمامة والحيوانات النافقة في...   \n",
              "2997  حق القاصر من أرباح المال المتروك عن المتوفى يك...   \n",
              "2998  لم يرد نصٌّ فى كتب الفقهاء يدل على تقديم نفقة ...   \n",
              "2999  المعيار في هذا الأمر شخصي، وتحقيق المناط فيه م...   \n",
              "\n",
              "                        التصنيف  \n",
              "0                عبادات و الذكر  \n",
              "1                       المسافر  \n",
              "2                عبادات و الصوم  \n",
              "3              عبادات و الجنائز  \n",
              "4                   آداب وأخلاق  \n",
              "...                         ...  \n",
              "2995                آداب وأخلاق  \n",
              "2996                     البيئة  \n",
              "2997  معاملات مالية من المرابحة  \n",
              "2998     مجتمع وأسرة من النفقات  \n",
              "2999            عبادات و الصلاة  \n",
              "\n",
              "[3000 rows x 5 columns]"
            ],
            "text/html": [
              "\n",
              "  <div id=\"df-51ca2324-d052-4909-a494-33a3ff6f170a\">\n",
              "    <div class=\"colab-df-container\">\n",
              "      <div>\n",
              "<style scoped>\n",
              "    .dataframe tbody tr th:only-of-type {\n",
              "        vertical-align: middle;\n",
              "    }\n",
              "\n",
              "    .dataframe tbody tr th {\n",
              "        vertical-align: top;\n",
              "    }\n",
              "\n",
              "    .dataframe thead th {\n",
              "        text-align: right;\n",
              "    }\n",
              "</style>\n",
              "<table border=\"1\" class=\"dataframe\">\n",
              "  <thead>\n",
              "    <tr style=\"text-align: right;\">\n",
              "      <th></th>\n",
              "      <th>Unnamed: 0</th>\n",
              "      <th>Unnamed: 0.1</th>\n",
              "      <th>الاسئله</th>\n",
              "      <th>الاجابات</th>\n",
              "      <th>التصنيف</th>\n",
              "    </tr>\n",
              "  </thead>\n",
              "  <tbody>\n",
              "    <tr>\n",
              "      <th>0</th>\n",
              "      <td>0</td>\n",
              "      <td>0</td>\n",
              "      <td>قال سائل علم ليل قدر خير شهر حرص إسلام حث مسلم...</td>\n",
              "      <td>إن الله أخفى رضاه في طاعته؛ ليستزيد أصحاب الطا...</td>\n",
              "      <td>عبادات و الذكر</td>\n",
              "    </tr>\n",
              "    <tr>\n",
              "      <th>1</th>\n",
              "      <td>1</td>\n",
              "      <td>1</td>\n",
              "      <td>قال سائل حكم رخصة إفطار مسافر رمضان ذلك ٱستكمل...</td>\n",
              "      <td>إن الله سبحانه وتعالى رخَّص للمسافر في رمضان أ...</td>\n",
              "      <td>المسافر</td>\n",
              "    </tr>\n",
              "    <tr>\n",
              "      <th>2</th>\n",
              "      <td>2</td>\n",
              "      <td>2</td>\n",
              "      <td>جاز إفطار حامل مرض خاف صيام جنين ربيع هل لزم ق...</td>\n",
              "      <td>يجوز للحامل والمرضع الإفطار إذا خافتا على الجن...</td>\n",
              "      <td>عبادات و الصوم</td>\n",
              "    </tr>\n",
              "    <tr>\n",
              "      <th>3</th>\n",
              "      <td>3</td>\n",
              "      <td>3</td>\n",
              "      <td>أراد سائل أقام حاجرا رخام مقبر أسرة حتى معروف ...</td>\n",
              "      <td>أجاز الأحناف كتابة اسم الميت فقط على القبر عند...</td>\n",
              "      <td>عبادات و الجنائز</td>\n",
              "    </tr>\n",
              "    <tr>\n",
              "      <th>4</th>\n",
              "      <td>4</td>\n",
              "      <td>4</td>\n",
              "      <td>قاعدة نصب شريعة إسلامي تنمية ذبح شرعي حيوان طير</td>\n",
              "      <td>الذكاة الشرعية أي الذبح الشرعي معناه في شريعة ...</td>\n",
              "      <td>آداب وأخلاق</td>\n",
              "    </tr>\n",
              "    <tr>\n",
              "      <th>...</th>\n",
              "      <td>...</td>\n",
              "      <td>...</td>\n",
              "      <td>...</td>\n",
              "      <td>...</td>\n",
              "      <td>...</td>\n",
              "    </tr>\n",
              "    <tr>\n",
              "      <th>2995</th>\n",
              "      <td>2995</td>\n",
              "      <td>2995</td>\n",
              "      <td>حكم ٱستخدام وسيلة قتل حيوان ضال شارع بين سم أد...</td>\n",
              "      <td>لا يجوز قتل الحيوانات الضالَّة إلَّا ما تحقق ض...</td>\n",
              "      <td>آداب وأخلاق</td>\n",
              "    </tr>\n",
              "    <tr>\n",
              "      <th>2996</th>\n",
              "      <td>2996</td>\n",
              "      <td>2996</td>\n",
              "      <td>حكم إلقاء قمامة حيوان نافق ماء نيل سرعة</td>\n",
              "      <td>يحرم شرعًا إلقاء القمامة والحيوانات النافقة في...</td>\n",
              "      <td>البيئة</td>\n",
              "    </tr>\n",
              "    <tr>\n",
              "      <th>2997</th>\n",
              "      <td>2997</td>\n",
              "      <td>2997</td>\n",
              "      <td>توفى والد رحم الله ترك أربع ولد والد ثلاث بالغ...</td>\n",
              "      <td>حق القاصر من أرباح المال المتروك عن المتوفى يك...</td>\n",
              "      <td>معاملات مالية من المرابحة</td>\n",
              "    </tr>\n",
              "    <tr>\n",
              "      <th>2998</th>\n",
              "      <td>2998</td>\n",
              "      <td>2998</td>\n",
              "      <td>رجل تقرر نفقة زوج زوجة ولد حكم نهائي نفذ ربع م...</td>\n",
              "      <td>لم يرد نصٌّ فى كتب الفقهاء يدل على تقديم نفقة ...</td>\n",
              "      <td>مجتمع وأسرة من النفقات</td>\n",
              "    </tr>\n",
              "    <tr>\n",
              "      <th>2999</th>\n",
              "      <td>2999</td>\n",
              "      <td>2999</td>\n",
              "      <td>رن تلفون ثني تأدية مرء أحد صلاة خمس منتظر مكال...</td>\n",
              "      <td>المعيار في هذا الأمر شخصي، وتحقيق المناط فيه م...</td>\n",
              "      <td>عبادات و الصلاة</td>\n",
              "    </tr>\n",
              "  </tbody>\n",
              "</table>\n",
              "<p>3000 rows × 5 columns</p>\n",
              "</div>\n",
              "      <button class=\"colab-df-convert\" onclick=\"convertToInteractive('df-51ca2324-d052-4909-a494-33a3ff6f170a')\"\n",
              "              title=\"Convert this dataframe to an interactive table.\"\n",
              "              style=\"display:none;\">\n",
              "        \n",
              "  <svg xmlns=\"http://www.w3.org/2000/svg\" height=\"24px\"viewBox=\"0 0 24 24\"\n",
              "       width=\"24px\">\n",
              "    <path d=\"M0 0h24v24H0V0z\" fill=\"none\"/>\n",
              "    <path d=\"M18.56 5.44l.94 2.06.94-2.06 2.06-.94-2.06-.94-.94-2.06-.94 2.06-2.06.94zm-11 1L8.5 8.5l.94-2.06 2.06-.94-2.06-.94L8.5 2.5l-.94 2.06-2.06.94zm10 10l.94 2.06.94-2.06 2.06-.94-2.06-.94-.94-2.06-.94 2.06-2.06.94z\"/><path d=\"M17.41 7.96l-1.37-1.37c-.4-.4-.92-.59-1.43-.59-.52 0-1.04.2-1.43.59L10.3 9.45l-7.72 7.72c-.78.78-.78 2.05 0 2.83L4 21.41c.39.39.9.59 1.41.59.51 0 1.02-.2 1.41-.59l7.78-7.78 2.81-2.81c.8-.78.8-2.07 0-2.86zM5.41 20L4 18.59l7.72-7.72 1.47 1.35L5.41 20z\"/>\n",
              "  </svg>\n",
              "      </button>\n",
              "      \n",
              "  <style>\n",
              "    .colab-df-container {\n",
              "      display:flex;\n",
              "      flex-wrap:wrap;\n",
              "      gap: 12px;\n",
              "    }\n",
              "\n",
              "    .colab-df-convert {\n",
              "      background-color: #E8F0FE;\n",
              "      border: none;\n",
              "      border-radius: 50%;\n",
              "      cursor: pointer;\n",
              "      display: none;\n",
              "      fill: #1967D2;\n",
              "      height: 32px;\n",
              "      padding: 0 0 0 0;\n",
              "      width: 32px;\n",
              "    }\n",
              "\n",
              "    .colab-df-convert:hover {\n",
              "      background-color: #E2EBFA;\n",
              "      box-shadow: 0px 1px 2px rgba(60, 64, 67, 0.3), 0px 1px 3px 1px rgba(60, 64, 67, 0.15);\n",
              "      fill: #174EA6;\n",
              "    }\n",
              "\n",
              "    [theme=dark] .colab-df-convert {\n",
              "      background-color: #3B4455;\n",
              "      fill: #D2E3FC;\n",
              "    }\n",
              "\n",
              "    [theme=dark] .colab-df-convert:hover {\n",
              "      background-color: #434B5C;\n",
              "      box-shadow: 0px 1px 3px 1px rgba(0, 0, 0, 0.15);\n",
              "      filter: drop-shadow(0px 1px 2px rgba(0, 0, 0, 0.3));\n",
              "      fill: #FFFFFF;\n",
              "    }\n",
              "  </style>\n",
              "\n",
              "      <script>\n",
              "        const buttonEl =\n",
              "          document.querySelector('#df-51ca2324-d052-4909-a494-33a3ff6f170a button.colab-df-convert');\n",
              "        buttonEl.style.display =\n",
              "          google.colab.kernel.accessAllowed ? 'block' : 'none';\n",
              "\n",
              "        async function convertToInteractive(key) {\n",
              "          const element = document.querySelector('#df-51ca2324-d052-4909-a494-33a3ff6f170a');\n",
              "          const dataTable =\n",
              "            await google.colab.kernel.invokeFunction('convertToInteractive',\n",
              "                                                     [key], {});\n",
              "          if (!dataTable) return;\n",
              "\n",
              "          const docLinkHtml = 'Like what you see? Visit the ' +\n",
              "            '<a target=\"_blank\" href=https://colab.research.google.com/notebooks/data_table.ipynb>data table notebook</a>'\n",
              "            + ' to learn more about interactive tables.';\n",
              "          element.innerHTML = '';\n",
              "          dataTable['output_type'] = 'display_data';\n",
              "          await google.colab.output.renderOutput(dataTable, element);\n",
              "          const docLink = document.createElement('div');\n",
              "          docLink.innerHTML = docLinkHtml;\n",
              "          element.appendChild(docLink);\n",
              "        }\n",
              "      </script>\n",
              "    </div>\n",
              "  </div>\n",
              "  "
            ]
          },
          "metadata": {},
          "execution_count": 36
        }
      ]
    },
    {
      "cell_type": "code",
      "source": [
        "val"
      ],
      "metadata": {
        "colab": {
          "base_uri": "https://localhost:8080/",
          "height": 424
        },
        "id": "z12CY0qFHIAH",
        "outputId": "12e26181-ef0b-4a28-aa3e-40c820b44d5c"
      },
      "execution_count": null,
      "outputs": [
        {
          "output_type": "execute_result",
          "data": {
            "text/plain": [
              "      Unnamed: 0  Unnamed: 0.1  \\\n",
              "0           3000          3000   \n",
              "1           3001          3001   \n",
              "2           3002          3002   \n",
              "3           3003          3003   \n",
              "4           3004          3004   \n",
              "...          ...           ...   \n",
              "1508        4508          4508   \n",
              "1509        4509          4509   \n",
              "1510        4510          4510   \n",
              "1511        4511          4511   \n",
              "1512        4512          4512   \n",
              "\n",
              "                                                الاسئله  \\\n",
              "0     ٱستحقاق مطلق رفقة عدة حكم محكمة تاريخ حكم درجة...   \n",
              "1     وجد مشكلة ٱجتماع هند خاص المليبار عنوسة كثير ف...   \n",
              "2     والد سائل بني مسجد طوب لبن مدة طويل مسجد موقوف...   \n",
              "3     طلب مجلس إدارة مشروع إنشاء معهد مرض كبد بيان ج...   \n",
              "4     أخ أراد زواج ٱبن عم أرضع أم أرضع أم ٱجتمع قطاع...   \n",
              "...                                                 ...   \n",
              "1508  أمر تم خطبة رجل عمل خارج لما أراد عقد طلب ٱسم ...   \n",
              "1509  تقدم طلب يد ٱبن عم فتفاجات أم أبلغ ٱبن عم أرضع...   \n",
              "1510  شاب أراد زواج فتاة رفعت والد أخت أصغر ركعة مطب...   \n",
              "1511                              خرج كفارة ني أم مطبوخ   \n",
              "1512                  حكم إخراج زكاة مال شكل إفطار صائم   \n",
              "\n",
              "                                               الاجابات  \\\n",
              "0     عدَّة المُطَلَّقَةِ بحكمٍ ابتدائي يَبدأ احتِسا...   \n",
              "1     أوجب الإسلام المهر لمصلحة المرأة نفسها وصونًا ...   \n",
              "2     لما كان الظاهر من السؤال أن المسجد المسؤول عنه...   \n",
              "3     يجوز إخراج جزء من زكاة الأموال للمعاونة في إقا...   \n",
              "4     يجوز لأخيك الزواج مِن ابنة عمك، ولا يَضُرُّ رض...   \n",
              "...                                                 ...   \n",
              "1508  هذا العقد باطل؛ لأنه لم يحصل فيه توكيل بعقد ال...   \n",
              "1509  إذا رضع كل منكما من زوجة العم هذه خمس رضعات مش...   \n",
              "1510  المقرر شرعًا أنه يحرم من الرضاع ما يحرم من الن...   \n",
              "1511  جمهور الفقهاء يشترطون في إخراج الكفارة التمليك...   \n",
              "1512  تفطير الصائمين أو ما يُعْرَف بـ\"موائد الرحمن\" ...   \n",
              "\n",
              "                                        التصنيف  \n",
              "0                        مجتمع وأسرة من النفقات  \n",
              "1                         مجتمع وأسرة من النكاح  \n",
              "2                        معاملات مالية من الوقف  \n",
              "3                               عبادات و الزكاة  \n",
              "4                           الرئيسية في الفتاوى  \n",
              "...                                         ...  \n",
              "1508                      مجتمع وأسرة من النكاح  \n",
              "1509                      مجتمع وأسرة من الرجاء  \n",
              "1510                      مجتمع وأسرة من الرجاء  \n",
              "1511  شؤون عادات و الذبائح في الأضحية في النذور  \n",
              "1512                            عبادات و الزكاة  \n",
              "\n",
              "[1513 rows x 5 columns]"
            ],
            "text/html": [
              "\n",
              "  <div id=\"df-a11c7fa5-7c62-47b7-bedb-983fe474f93d\">\n",
              "    <div class=\"colab-df-container\">\n",
              "      <div>\n",
              "<style scoped>\n",
              "    .dataframe tbody tr th:only-of-type {\n",
              "        vertical-align: middle;\n",
              "    }\n",
              "\n",
              "    .dataframe tbody tr th {\n",
              "        vertical-align: top;\n",
              "    }\n",
              "\n",
              "    .dataframe thead th {\n",
              "        text-align: right;\n",
              "    }\n",
              "</style>\n",
              "<table border=\"1\" class=\"dataframe\">\n",
              "  <thead>\n",
              "    <tr style=\"text-align: right;\">\n",
              "      <th></th>\n",
              "      <th>Unnamed: 0</th>\n",
              "      <th>Unnamed: 0.1</th>\n",
              "      <th>الاسئله</th>\n",
              "      <th>الاجابات</th>\n",
              "      <th>التصنيف</th>\n",
              "    </tr>\n",
              "  </thead>\n",
              "  <tbody>\n",
              "    <tr>\n",
              "      <th>0</th>\n",
              "      <td>3000</td>\n",
              "      <td>3000</td>\n",
              "      <td>ٱستحقاق مطلق رفقة عدة حكم محكمة تاريخ حكم درجة...</td>\n",
              "      <td>عدَّة المُطَلَّقَةِ بحكمٍ ابتدائي يَبدأ احتِسا...</td>\n",
              "      <td>مجتمع وأسرة من النفقات</td>\n",
              "    </tr>\n",
              "    <tr>\n",
              "      <th>1</th>\n",
              "      <td>3001</td>\n",
              "      <td>3001</td>\n",
              "      <td>وجد مشكلة ٱجتماع هند خاص المليبار عنوسة كثير ف...</td>\n",
              "      <td>أوجب الإسلام المهر لمصلحة المرأة نفسها وصونًا ...</td>\n",
              "      <td>مجتمع وأسرة من النكاح</td>\n",
              "    </tr>\n",
              "    <tr>\n",
              "      <th>2</th>\n",
              "      <td>3002</td>\n",
              "      <td>3002</td>\n",
              "      <td>والد سائل بني مسجد طوب لبن مدة طويل مسجد موقوف...</td>\n",
              "      <td>لما كان الظاهر من السؤال أن المسجد المسؤول عنه...</td>\n",
              "      <td>معاملات مالية من الوقف</td>\n",
              "    </tr>\n",
              "    <tr>\n",
              "      <th>3</th>\n",
              "      <td>3003</td>\n",
              "      <td>3003</td>\n",
              "      <td>طلب مجلس إدارة مشروع إنشاء معهد مرض كبد بيان ج...</td>\n",
              "      <td>يجوز إخراج جزء من زكاة الأموال للمعاونة في إقا...</td>\n",
              "      <td>عبادات و الزكاة</td>\n",
              "    </tr>\n",
              "    <tr>\n",
              "      <th>4</th>\n",
              "      <td>3004</td>\n",
              "      <td>3004</td>\n",
              "      <td>أخ أراد زواج ٱبن عم أرضع أم أرضع أم ٱجتمع قطاع...</td>\n",
              "      <td>يجوز لأخيك الزواج مِن ابنة عمك، ولا يَضُرُّ رض...</td>\n",
              "      <td>الرئيسية في الفتاوى</td>\n",
              "    </tr>\n",
              "    <tr>\n",
              "      <th>...</th>\n",
              "      <td>...</td>\n",
              "      <td>...</td>\n",
              "      <td>...</td>\n",
              "      <td>...</td>\n",
              "      <td>...</td>\n",
              "    </tr>\n",
              "    <tr>\n",
              "      <th>1508</th>\n",
              "      <td>4508</td>\n",
              "      <td>4508</td>\n",
              "      <td>أمر تم خطبة رجل عمل خارج لما أراد عقد طلب ٱسم ...</td>\n",
              "      <td>هذا العقد باطل؛ لأنه لم يحصل فيه توكيل بعقد ال...</td>\n",
              "      <td>مجتمع وأسرة من النكاح</td>\n",
              "    </tr>\n",
              "    <tr>\n",
              "      <th>1509</th>\n",
              "      <td>4509</td>\n",
              "      <td>4509</td>\n",
              "      <td>تقدم طلب يد ٱبن عم فتفاجات أم أبلغ ٱبن عم أرضع...</td>\n",
              "      <td>إذا رضع كل منكما من زوجة العم هذه خمس رضعات مش...</td>\n",
              "      <td>مجتمع وأسرة من الرجاء</td>\n",
              "    </tr>\n",
              "    <tr>\n",
              "      <th>1510</th>\n",
              "      <td>4510</td>\n",
              "      <td>4510</td>\n",
              "      <td>شاب أراد زواج فتاة رفعت والد أخت أصغر ركعة مطب...</td>\n",
              "      <td>المقرر شرعًا أنه يحرم من الرضاع ما يحرم من الن...</td>\n",
              "      <td>مجتمع وأسرة من الرجاء</td>\n",
              "    </tr>\n",
              "    <tr>\n",
              "      <th>1511</th>\n",
              "      <td>4511</td>\n",
              "      <td>4511</td>\n",
              "      <td>خرج كفارة ني أم مطبوخ</td>\n",
              "      <td>جمهور الفقهاء يشترطون في إخراج الكفارة التمليك...</td>\n",
              "      <td>شؤون عادات و الذبائح في الأضحية في النذور</td>\n",
              "    </tr>\n",
              "    <tr>\n",
              "      <th>1512</th>\n",
              "      <td>4512</td>\n",
              "      <td>4512</td>\n",
              "      <td>حكم إخراج زكاة مال شكل إفطار صائم</td>\n",
              "      <td>تفطير الصائمين أو ما يُعْرَف بـ\"موائد الرحمن\" ...</td>\n",
              "      <td>عبادات و الزكاة</td>\n",
              "    </tr>\n",
              "  </tbody>\n",
              "</table>\n",
              "<p>1513 rows × 5 columns</p>\n",
              "</div>\n",
              "      <button class=\"colab-df-convert\" onclick=\"convertToInteractive('df-a11c7fa5-7c62-47b7-bedb-983fe474f93d')\"\n",
              "              title=\"Convert this dataframe to an interactive table.\"\n",
              "              style=\"display:none;\">\n",
              "        \n",
              "  <svg xmlns=\"http://www.w3.org/2000/svg\" height=\"24px\"viewBox=\"0 0 24 24\"\n",
              "       width=\"24px\">\n",
              "    <path d=\"M0 0h24v24H0V0z\" fill=\"none\"/>\n",
              "    <path d=\"M18.56 5.44l.94 2.06.94-2.06 2.06-.94-2.06-.94-.94-2.06-.94 2.06-2.06.94zm-11 1L8.5 8.5l.94-2.06 2.06-.94-2.06-.94L8.5 2.5l-.94 2.06-2.06.94zm10 10l.94 2.06.94-2.06 2.06-.94-2.06-.94-.94-2.06-.94 2.06-2.06.94z\"/><path d=\"M17.41 7.96l-1.37-1.37c-.4-.4-.92-.59-1.43-.59-.52 0-1.04.2-1.43.59L10.3 9.45l-7.72 7.72c-.78.78-.78 2.05 0 2.83L4 21.41c.39.39.9.59 1.41.59.51 0 1.02-.2 1.41-.59l7.78-7.78 2.81-2.81c.8-.78.8-2.07 0-2.86zM5.41 20L4 18.59l7.72-7.72 1.47 1.35L5.41 20z\"/>\n",
              "  </svg>\n",
              "      </button>\n",
              "      \n",
              "  <style>\n",
              "    .colab-df-container {\n",
              "      display:flex;\n",
              "      flex-wrap:wrap;\n",
              "      gap: 12px;\n",
              "    }\n",
              "\n",
              "    .colab-df-convert {\n",
              "      background-color: #E8F0FE;\n",
              "      border: none;\n",
              "      border-radius: 50%;\n",
              "      cursor: pointer;\n",
              "      display: none;\n",
              "      fill: #1967D2;\n",
              "      height: 32px;\n",
              "      padding: 0 0 0 0;\n",
              "      width: 32px;\n",
              "    }\n",
              "\n",
              "    .colab-df-convert:hover {\n",
              "      background-color: #E2EBFA;\n",
              "      box-shadow: 0px 1px 2px rgba(60, 64, 67, 0.3), 0px 1px 3px 1px rgba(60, 64, 67, 0.15);\n",
              "      fill: #174EA6;\n",
              "    }\n",
              "\n",
              "    [theme=dark] .colab-df-convert {\n",
              "      background-color: #3B4455;\n",
              "      fill: #D2E3FC;\n",
              "    }\n",
              "\n",
              "    [theme=dark] .colab-df-convert:hover {\n",
              "      background-color: #434B5C;\n",
              "      box-shadow: 0px 1px 3px 1px rgba(0, 0, 0, 0.15);\n",
              "      filter: drop-shadow(0px 1px 2px rgba(0, 0, 0, 0.3));\n",
              "      fill: #FFFFFF;\n",
              "    }\n",
              "  </style>\n",
              "\n",
              "      <script>\n",
              "        const buttonEl =\n",
              "          document.querySelector('#df-a11c7fa5-7c62-47b7-bedb-983fe474f93d button.colab-df-convert');\n",
              "        buttonEl.style.display =\n",
              "          google.colab.kernel.accessAllowed ? 'block' : 'none';\n",
              "\n",
              "        async function convertToInteractive(key) {\n",
              "          const element = document.querySelector('#df-a11c7fa5-7c62-47b7-bedb-983fe474f93d');\n",
              "          const dataTable =\n",
              "            await google.colab.kernel.invokeFunction('convertToInteractive',\n",
              "                                                     [key], {});\n",
              "          if (!dataTable) return;\n",
              "\n",
              "          const docLinkHtml = 'Like what you see? Visit the ' +\n",
              "            '<a target=\"_blank\" href=https://colab.research.google.com/notebooks/data_table.ipynb>data table notebook</a>'\n",
              "            + ' to learn more about interactive tables.';\n",
              "          element.innerHTML = '';\n",
              "          dataTable['output_type'] = 'display_data';\n",
              "          await google.colab.output.renderOutput(dataTable, element);\n",
              "          const docLink = document.createElement('div');\n",
              "          docLink.innerHTML = docLinkHtml;\n",
              "          element.appendChild(docLink);\n",
              "        }\n",
              "      </script>\n",
              "    </div>\n",
              "  </div>\n",
              "  "
            ]
          },
          "metadata": {},
          "execution_count": 37
        }
      ]
    },
    {
      "cell_type": "code",
      "source": [
        "all_questions=data['الاسئله']\n",
        "\n",
        "all_questions_en=model.encode(all_questions)"
      ],
      "metadata": {
        "id": "jzaQjH-1wTZu"
      },
      "execution_count": null,
      "outputs": []
    },
    {
      "cell_type": "code",
      "source": [
        "all_questions_en"
      ],
      "metadata": {
        "colab": {
          "base_uri": "https://localhost:8080/"
        },
        "id": "BrG5F1sYgYzh",
        "outputId": "b9f82890-375e-4946-ae8b-1968e744dd9e"
      },
      "execution_count": null,
      "outputs": [
        {
          "output_type": "execute_result",
          "data": {
            "text/plain": [
              "array([[-0.11088783,  0.1715556 ,  0.27398798, ...,  0.78083014,\n",
              "         0.47710228,  0.24194965],\n",
              "       [-0.45106173,  0.4435916 , -0.12309892, ...,  0.9149083 ,\n",
              "         0.9268712 ,  0.12989551],\n",
              "       [-0.2487999 ,  0.1157277 , -0.04715518, ...,  0.3574764 ,\n",
              "         0.60330147, -0.19621207],\n",
              "       ...,\n",
              "       [-0.26083192,  0.6125377 , -0.4418813 , ...,  0.17428356,\n",
              "         0.48052537,  0.37653744],\n",
              "       [ 0.06161949,  0.05772264, -0.2278489 , ...,  0.25970826,\n",
              "        -0.29893476,  0.5571633 ],\n",
              "       [-0.54275   ,  0.9218608 ,  0.28434372, ...,  1.1153944 ,\n",
              "         0.13287608,  0.3835173 ]], dtype=float32)"
            ]
          },
          "metadata": {},
          "execution_count": 39
        }
      ]
    },
    {
      "cell_type": "code",
      "source": [
        "list=all_questions_en.tolist()\n",
        "data['embedding']=list\n",
        "#all_questions_en.tolist()"
      ],
      "metadata": {
        "id": "a19QA0rBwxHb"
      },
      "execution_count": null,
      "outputs": []
    },
    {
      "cell_type": "code",
      "source": [
        "data"
      ],
      "metadata": {
        "colab": {
          "base_uri": "https://localhost:8080/",
          "height": 468
        },
        "id": "JMxQCFl0POa-",
        "outputId": "893297da-3724-4d17-b1ef-5621867bfa59"
      },
      "execution_count": null,
      "outputs": [
        {
          "output_type": "execute_result",
          "data": {
            "text/plain": [
              "      Unnamed: 0  Unnamed: 0.1  \\\n",
              "0              0             0   \n",
              "1              1             1   \n",
              "2              2             2   \n",
              "3              3             3   \n",
              "4              4             4   \n",
              "...          ...           ...   \n",
              "4508        4508          4508   \n",
              "4509        4509          4509   \n",
              "4510        4510          4510   \n",
              "4511        4511          4511   \n",
              "4512        4512          4512   \n",
              "\n",
              "                                                الاسئله  \\\n",
              "0     قال سائل علم ليل قدر خير شهر حرص إسلام حث مسلم...   \n",
              "1     قال سائل حكم رخصة إفطار مسافر رمضان ذلك ٱستكمل...   \n",
              "2     جاز إفطار حامل مرض خاف صيام جنين ربيع هل لزم ق...   \n",
              "3     أراد سائل أقام حاجرا رخام مقبر أسرة حتى معروف ...   \n",
              "4       قاعدة نصب شريعة إسلامي تنمية ذبح شرعي حيوان طير   \n",
              "...                                                 ...   \n",
              "4508  أمر تم خطبة رجل عمل خارج لما أراد عقد طلب ٱسم ...   \n",
              "4509  تقدم طلب يد ٱبن عم فتفاجات أم أبلغ ٱبن عم أرضع...   \n",
              "4510  شاب أراد زواج فتاة رفعت والد أخت أصغر ركعة مطب...   \n",
              "4511                              خرج كفارة ني أم مطبوخ   \n",
              "4512                  حكم إخراج زكاة مال شكل إفطار صائم   \n",
              "\n",
              "                                               الاجابات  \\\n",
              "0     إن الله أخفى رضاه في طاعته؛ ليستزيد أصحاب الطا...   \n",
              "1     إن الله سبحانه وتعالى رخَّص للمسافر في رمضان أ...   \n",
              "2     يجوز للحامل والمرضع الإفطار إذا خافتا على الجن...   \n",
              "3     أجاز الأحناف كتابة اسم الميت فقط على القبر عند...   \n",
              "4     الذكاة الشرعية أي الذبح الشرعي معناه في شريعة ...   \n",
              "...                                                 ...   \n",
              "4508  هذا العقد باطل؛ لأنه لم يحصل فيه توكيل بعقد ال...   \n",
              "4509  إذا رضع كل منكما من زوجة العم هذه خمس رضعات مش...   \n",
              "4510  المقرر شرعًا أنه يحرم من الرضاع ما يحرم من الن...   \n",
              "4511  جمهور الفقهاء يشترطون في إخراج الكفارة التمليك...   \n",
              "4512  تفطير الصائمين أو ما يُعْرَف بـ\"موائد الرحمن\" ...   \n",
              "\n",
              "                                        التصنيف  \\\n",
              "0                                عبادات و الذكر   \n",
              "1                                       المسافر   \n",
              "2                                عبادات و الصوم   \n",
              "3                              عبادات و الجنائز   \n",
              "4                                   آداب وأخلاق   \n",
              "...                                         ...   \n",
              "4508                      مجتمع وأسرة من النكاح   \n",
              "4509                      مجتمع وأسرة من الرجاء   \n",
              "4510                      مجتمع وأسرة من الرجاء   \n",
              "4511  شؤون عادات و الذبائح في الأضحية في النذور   \n",
              "4512                            عبادات و الزكاة   \n",
              "\n",
              "                                              embedding  \n",
              "0     [-0.11088783293962479, 0.17155559360980988, 0....  \n",
              "1     [-0.4510617256164551, 0.4435915946960449, -0.1...  \n",
              "2     [-0.2487999051809311, 0.11572770029306412, -0....  \n",
              "3     [-0.19788236916065216, 0.6192238926887512, -0....  \n",
              "4     [-0.45278310775756836, 1.2245081663131714, -0....  \n",
              "...                                                 ...  \n",
              "4508  [0.014580236747860909, 1.011281132698059, 0.08...  \n",
              "4509  [-0.5928065180778503, -0.4462440013885498, -0....  \n",
              "4510  [-0.26083192229270935, 0.612537682056427, -0.4...  \n",
              "4511  [0.06161949411034584, 0.05772264301776886, -0....  \n",
              "4512  [-0.5427500009536743, 0.9218608140945435, 0.28...  \n",
              "\n",
              "[4513 rows x 6 columns]"
            ],
            "text/html": [
              "\n",
              "  <div id=\"df-8f4746a0-1cbb-4d8e-8f52-3c35ab806e8b\">\n",
              "    <div class=\"colab-df-container\">\n",
              "      <div>\n",
              "<style scoped>\n",
              "    .dataframe tbody tr th:only-of-type {\n",
              "        vertical-align: middle;\n",
              "    }\n",
              "\n",
              "    .dataframe tbody tr th {\n",
              "        vertical-align: top;\n",
              "    }\n",
              "\n",
              "    .dataframe thead th {\n",
              "        text-align: right;\n",
              "    }\n",
              "</style>\n",
              "<table border=\"1\" class=\"dataframe\">\n",
              "  <thead>\n",
              "    <tr style=\"text-align: right;\">\n",
              "      <th></th>\n",
              "      <th>Unnamed: 0</th>\n",
              "      <th>Unnamed: 0.1</th>\n",
              "      <th>الاسئله</th>\n",
              "      <th>الاجابات</th>\n",
              "      <th>التصنيف</th>\n",
              "      <th>embedding</th>\n",
              "    </tr>\n",
              "  </thead>\n",
              "  <tbody>\n",
              "    <tr>\n",
              "      <th>0</th>\n",
              "      <td>0</td>\n",
              "      <td>0</td>\n",
              "      <td>قال سائل علم ليل قدر خير شهر حرص إسلام حث مسلم...</td>\n",
              "      <td>إن الله أخفى رضاه في طاعته؛ ليستزيد أصحاب الطا...</td>\n",
              "      <td>عبادات و الذكر</td>\n",
              "      <td>[-0.11088783293962479, 0.17155559360980988, 0....</td>\n",
              "    </tr>\n",
              "    <tr>\n",
              "      <th>1</th>\n",
              "      <td>1</td>\n",
              "      <td>1</td>\n",
              "      <td>قال سائل حكم رخصة إفطار مسافر رمضان ذلك ٱستكمل...</td>\n",
              "      <td>إن الله سبحانه وتعالى رخَّص للمسافر في رمضان أ...</td>\n",
              "      <td>المسافر</td>\n",
              "      <td>[-0.4510617256164551, 0.4435915946960449, -0.1...</td>\n",
              "    </tr>\n",
              "    <tr>\n",
              "      <th>2</th>\n",
              "      <td>2</td>\n",
              "      <td>2</td>\n",
              "      <td>جاز إفطار حامل مرض خاف صيام جنين ربيع هل لزم ق...</td>\n",
              "      <td>يجوز للحامل والمرضع الإفطار إذا خافتا على الجن...</td>\n",
              "      <td>عبادات و الصوم</td>\n",
              "      <td>[-0.2487999051809311, 0.11572770029306412, -0....</td>\n",
              "    </tr>\n",
              "    <tr>\n",
              "      <th>3</th>\n",
              "      <td>3</td>\n",
              "      <td>3</td>\n",
              "      <td>أراد سائل أقام حاجرا رخام مقبر أسرة حتى معروف ...</td>\n",
              "      <td>أجاز الأحناف كتابة اسم الميت فقط على القبر عند...</td>\n",
              "      <td>عبادات و الجنائز</td>\n",
              "      <td>[-0.19788236916065216, 0.6192238926887512, -0....</td>\n",
              "    </tr>\n",
              "    <tr>\n",
              "      <th>4</th>\n",
              "      <td>4</td>\n",
              "      <td>4</td>\n",
              "      <td>قاعدة نصب شريعة إسلامي تنمية ذبح شرعي حيوان طير</td>\n",
              "      <td>الذكاة الشرعية أي الذبح الشرعي معناه في شريعة ...</td>\n",
              "      <td>آداب وأخلاق</td>\n",
              "      <td>[-0.45278310775756836, 1.2245081663131714, -0....</td>\n",
              "    </tr>\n",
              "    <tr>\n",
              "      <th>...</th>\n",
              "      <td>...</td>\n",
              "      <td>...</td>\n",
              "      <td>...</td>\n",
              "      <td>...</td>\n",
              "      <td>...</td>\n",
              "      <td>...</td>\n",
              "    </tr>\n",
              "    <tr>\n",
              "      <th>4508</th>\n",
              "      <td>4508</td>\n",
              "      <td>4508</td>\n",
              "      <td>أمر تم خطبة رجل عمل خارج لما أراد عقد طلب ٱسم ...</td>\n",
              "      <td>هذا العقد باطل؛ لأنه لم يحصل فيه توكيل بعقد ال...</td>\n",
              "      <td>مجتمع وأسرة من النكاح</td>\n",
              "      <td>[0.014580236747860909, 1.011281132698059, 0.08...</td>\n",
              "    </tr>\n",
              "    <tr>\n",
              "      <th>4509</th>\n",
              "      <td>4509</td>\n",
              "      <td>4509</td>\n",
              "      <td>تقدم طلب يد ٱبن عم فتفاجات أم أبلغ ٱبن عم أرضع...</td>\n",
              "      <td>إذا رضع كل منكما من زوجة العم هذه خمس رضعات مش...</td>\n",
              "      <td>مجتمع وأسرة من الرجاء</td>\n",
              "      <td>[-0.5928065180778503, -0.4462440013885498, -0....</td>\n",
              "    </tr>\n",
              "    <tr>\n",
              "      <th>4510</th>\n",
              "      <td>4510</td>\n",
              "      <td>4510</td>\n",
              "      <td>شاب أراد زواج فتاة رفعت والد أخت أصغر ركعة مطب...</td>\n",
              "      <td>المقرر شرعًا أنه يحرم من الرضاع ما يحرم من الن...</td>\n",
              "      <td>مجتمع وأسرة من الرجاء</td>\n",
              "      <td>[-0.26083192229270935, 0.612537682056427, -0.4...</td>\n",
              "    </tr>\n",
              "    <tr>\n",
              "      <th>4511</th>\n",
              "      <td>4511</td>\n",
              "      <td>4511</td>\n",
              "      <td>خرج كفارة ني أم مطبوخ</td>\n",
              "      <td>جمهور الفقهاء يشترطون في إخراج الكفارة التمليك...</td>\n",
              "      <td>شؤون عادات و الذبائح في الأضحية في النذور</td>\n",
              "      <td>[0.06161949411034584, 0.05772264301776886, -0....</td>\n",
              "    </tr>\n",
              "    <tr>\n",
              "      <th>4512</th>\n",
              "      <td>4512</td>\n",
              "      <td>4512</td>\n",
              "      <td>حكم إخراج زكاة مال شكل إفطار صائم</td>\n",
              "      <td>تفطير الصائمين أو ما يُعْرَف بـ\"موائد الرحمن\" ...</td>\n",
              "      <td>عبادات و الزكاة</td>\n",
              "      <td>[-0.5427500009536743, 0.9218608140945435, 0.28...</td>\n",
              "    </tr>\n",
              "  </tbody>\n",
              "</table>\n",
              "<p>4513 rows × 6 columns</p>\n",
              "</div>\n",
              "      <button class=\"colab-df-convert\" onclick=\"convertToInteractive('df-8f4746a0-1cbb-4d8e-8f52-3c35ab806e8b')\"\n",
              "              title=\"Convert this dataframe to an interactive table.\"\n",
              "              style=\"display:none;\">\n",
              "        \n",
              "  <svg xmlns=\"http://www.w3.org/2000/svg\" height=\"24px\"viewBox=\"0 0 24 24\"\n",
              "       width=\"24px\">\n",
              "    <path d=\"M0 0h24v24H0V0z\" fill=\"none\"/>\n",
              "    <path d=\"M18.56 5.44l.94 2.06.94-2.06 2.06-.94-2.06-.94-.94-2.06-.94 2.06-2.06.94zm-11 1L8.5 8.5l.94-2.06 2.06-.94-2.06-.94L8.5 2.5l-.94 2.06-2.06.94zm10 10l.94 2.06.94-2.06 2.06-.94-2.06-.94-.94-2.06-.94 2.06-2.06.94z\"/><path d=\"M17.41 7.96l-1.37-1.37c-.4-.4-.92-.59-1.43-.59-.52 0-1.04.2-1.43.59L10.3 9.45l-7.72 7.72c-.78.78-.78 2.05 0 2.83L4 21.41c.39.39.9.59 1.41.59.51 0 1.02-.2 1.41-.59l7.78-7.78 2.81-2.81c.8-.78.8-2.07 0-2.86zM5.41 20L4 18.59l7.72-7.72 1.47 1.35L5.41 20z\"/>\n",
              "  </svg>\n",
              "      </button>\n",
              "      \n",
              "  <style>\n",
              "    .colab-df-container {\n",
              "      display:flex;\n",
              "      flex-wrap:wrap;\n",
              "      gap: 12px;\n",
              "    }\n",
              "\n",
              "    .colab-df-convert {\n",
              "      background-color: #E8F0FE;\n",
              "      border: none;\n",
              "      border-radius: 50%;\n",
              "      cursor: pointer;\n",
              "      display: none;\n",
              "      fill: #1967D2;\n",
              "      height: 32px;\n",
              "      padding: 0 0 0 0;\n",
              "      width: 32px;\n",
              "    }\n",
              "\n",
              "    .colab-df-convert:hover {\n",
              "      background-color: #E2EBFA;\n",
              "      box-shadow: 0px 1px 2px rgba(60, 64, 67, 0.3), 0px 1px 3px 1px rgba(60, 64, 67, 0.15);\n",
              "      fill: #174EA6;\n",
              "    }\n",
              "\n",
              "    [theme=dark] .colab-df-convert {\n",
              "      background-color: #3B4455;\n",
              "      fill: #D2E3FC;\n",
              "    }\n",
              "\n",
              "    [theme=dark] .colab-df-convert:hover {\n",
              "      background-color: #434B5C;\n",
              "      box-shadow: 0px 1px 3px 1px rgba(0, 0, 0, 0.15);\n",
              "      filter: drop-shadow(0px 1px 2px rgba(0, 0, 0, 0.3));\n",
              "      fill: #FFFFFF;\n",
              "    }\n",
              "  </style>\n",
              "\n",
              "      <script>\n",
              "        const buttonEl =\n",
              "          document.querySelector('#df-8f4746a0-1cbb-4d8e-8f52-3c35ab806e8b button.colab-df-convert');\n",
              "        buttonEl.style.display =\n",
              "          google.colab.kernel.accessAllowed ? 'block' : 'none';\n",
              "\n",
              "        async function convertToInteractive(key) {\n",
              "          const element = document.querySelector('#df-8f4746a0-1cbb-4d8e-8f52-3c35ab806e8b');\n",
              "          const dataTable =\n",
              "            await google.colab.kernel.invokeFunction('convertToInteractive',\n",
              "                                                     [key], {});\n",
              "          if (!dataTable) return;\n",
              "\n",
              "          const docLinkHtml = 'Like what you see? Visit the ' +\n",
              "            '<a target=\"_blank\" href=https://colab.research.google.com/notebooks/data_table.ipynb>data table notebook</a>'\n",
              "            + ' to learn more about interactive tables.';\n",
              "          element.innerHTML = '';\n",
              "          dataTable['output_type'] = 'display_data';\n",
              "          await google.colab.output.renderOutput(dataTable, element);\n",
              "          const docLink = document.createElement('div');\n",
              "          docLink.innerHTML = docLinkHtml;\n",
              "          element.appendChild(docLink);\n",
              "        }\n",
              "      </script>\n",
              "    </div>\n",
              "  </div>\n",
              "  "
            ]
          },
          "metadata": {},
          "execution_count": 41
        }
      ]
    },
    {
      "cell_type": "code",
      "source": [
        "data.to_csv(\"/content/drive/MyDrive/Rule based data /Fatawy_embedding.csv\")\n",
        "# data2=pd.read_csv(\"/content/drive/MyDrive/Rule based data /Fatawy_embedding.csv\")"
      ],
      "metadata": {
        "id": "NkIwKJocPFUM"
      },
      "execution_count": null,
      "outputs": []
    },
    {
      "cell_type": "markdown",
      "source": [
        "##Saving with embedding"
      ],
      "metadata": {
        "id": "nMIZxduW3vwi"
      }
    },
    {
      "cell_type": "code",
      "source": [
        "train_questions = train['الاسئله']\n",
        "\n",
        "train_questions_en=model.encode(train_questions)"
      ],
      "metadata": {
        "id": "dn8MMYjTHIyP"
      },
      "execution_count": null,
      "outputs": []
    },
    {
      "cell_type": "code",
      "source": [
        "train_questions_en"
      ],
      "metadata": {
        "colab": {
          "base_uri": "https://localhost:8080/"
        },
        "id": "PhjZBqZZqV6z",
        "outputId": "e17390ed-e41d-4c47-bc33-8db6f6ab90b1"
      },
      "execution_count": null,
      "outputs": [
        {
          "output_type": "execute_result",
          "data": {
            "text/plain": [
              "array([[-0.11088783,  0.1715556 ,  0.27398798, ...,  0.78083014,\n",
              "         0.47710228,  0.24194965],\n",
              "       [-0.45106173,  0.4435916 , -0.12309892, ...,  0.9149083 ,\n",
              "         0.9268712 ,  0.12989551],\n",
              "       [-0.2487999 ,  0.1157277 , -0.04715518, ...,  0.3574764 ,\n",
              "         0.60330147, -0.19621207],\n",
              "       ...,\n",
              "       [-0.11013344,  0.4563411 , -0.24648173, ...,  0.7950488 ,\n",
              "         0.5346704 ,  0.3915617 ],\n",
              "       [ 0.57524955,  0.73097736, -0.18542516, ...,  0.68143785,\n",
              "         0.7115222 ,  0.38769367],\n",
              "       [-0.2244283 ,  1.0986261 ,  0.02782618, ...,  1.0773233 ,\n",
              "         0.87817794,  0.33437967]], dtype=float32)"
            ]
          },
          "metadata": {},
          "execution_count": 44
        }
      ]
    },
    {
      "cell_type": "code",
      "source": [
        "# train['embedding']=train_questions_en.tolist()\n",
        "# train"
      ],
      "metadata": {
        "id": "7SdLm_6A4D-X"
      },
      "execution_count": null,
      "outputs": []
    },
    {
      "cell_type": "code",
      "source": [
        "data"
      ],
      "metadata": {
        "colab": {
          "base_uri": "https://localhost:8080/",
          "height": 468
        },
        "id": "ARrjCz0Fp5PY",
        "outputId": "fa2f2b34-769a-4493-8365-12ce2b981f32"
      },
      "execution_count": null,
      "outputs": [
        {
          "output_type": "execute_result",
          "data": {
            "text/plain": [
              "      Unnamed: 0  Unnamed: 0.1  \\\n",
              "0              0             0   \n",
              "1              1             1   \n",
              "2              2             2   \n",
              "3              3             3   \n",
              "4              4             4   \n",
              "...          ...           ...   \n",
              "4508        4508          4508   \n",
              "4509        4509          4509   \n",
              "4510        4510          4510   \n",
              "4511        4511          4511   \n",
              "4512        4512          4512   \n",
              "\n",
              "                                                الاسئله  \\\n",
              "0     قال سائل علم ليل قدر خير شهر حرص إسلام حث مسلم...   \n",
              "1     قال سائل حكم رخصة إفطار مسافر رمضان ذلك ٱستكمل...   \n",
              "2     جاز إفطار حامل مرض خاف صيام جنين ربيع هل لزم ق...   \n",
              "3     أراد سائل أقام حاجرا رخام مقبر أسرة حتى معروف ...   \n",
              "4       قاعدة نصب شريعة إسلامي تنمية ذبح شرعي حيوان طير   \n",
              "...                                                 ...   \n",
              "4508  أمر تم خطبة رجل عمل خارج لما أراد عقد طلب ٱسم ...   \n",
              "4509  تقدم طلب يد ٱبن عم فتفاجات أم أبلغ ٱبن عم أرضع...   \n",
              "4510  شاب أراد زواج فتاة رفعت والد أخت أصغر ركعة مطب...   \n",
              "4511                              خرج كفارة ني أم مطبوخ   \n",
              "4512                  حكم إخراج زكاة مال شكل إفطار صائم   \n",
              "\n",
              "                                               الاجابات  \\\n",
              "0     إن الله أخفى رضاه في طاعته؛ ليستزيد أصحاب الطا...   \n",
              "1     إن الله سبحانه وتعالى رخَّص للمسافر في رمضان أ...   \n",
              "2     يجوز للحامل والمرضع الإفطار إذا خافتا على الجن...   \n",
              "3     أجاز الأحناف كتابة اسم الميت فقط على القبر عند...   \n",
              "4     الذكاة الشرعية أي الذبح الشرعي معناه في شريعة ...   \n",
              "...                                                 ...   \n",
              "4508  هذا العقد باطل؛ لأنه لم يحصل فيه توكيل بعقد ال...   \n",
              "4509  إذا رضع كل منكما من زوجة العم هذه خمس رضعات مش...   \n",
              "4510  المقرر شرعًا أنه يحرم من الرضاع ما يحرم من الن...   \n",
              "4511  جمهور الفقهاء يشترطون في إخراج الكفارة التمليك...   \n",
              "4512  تفطير الصائمين أو ما يُعْرَف بـ\"موائد الرحمن\" ...   \n",
              "\n",
              "                                        التصنيف  \\\n",
              "0                                عبادات و الذكر   \n",
              "1                                       المسافر   \n",
              "2                                عبادات و الصوم   \n",
              "3                              عبادات و الجنائز   \n",
              "4                                   آداب وأخلاق   \n",
              "...                                         ...   \n",
              "4508                      مجتمع وأسرة من النكاح   \n",
              "4509                      مجتمع وأسرة من الرجاء   \n",
              "4510                      مجتمع وأسرة من الرجاء   \n",
              "4511  شؤون عادات و الذبائح في الأضحية في النذور   \n",
              "4512                            عبادات و الزكاة   \n",
              "\n",
              "                                              embedding  \n",
              "0     [-0.11088783293962479, 0.17155559360980988, 0....  \n",
              "1     [-0.4510617256164551, 0.4435915946960449, -0.1...  \n",
              "2     [-0.2487999051809311, 0.11572770029306412, -0....  \n",
              "3     [-0.19788236916065216, 0.6192238926887512, -0....  \n",
              "4     [-0.45278310775756836, 1.2245081663131714, -0....  \n",
              "...                                                 ...  \n",
              "4508  [0.014580236747860909, 1.011281132698059, 0.08...  \n",
              "4509  [-0.5928065180778503, -0.4462440013885498, -0....  \n",
              "4510  [-0.26083192229270935, 0.612537682056427, -0.4...  \n",
              "4511  [0.06161949411034584, 0.05772264301776886, -0....  \n",
              "4512  [-0.5427500009536743, 0.9218608140945435, 0.28...  \n",
              "\n",
              "[4513 rows x 6 columns]"
            ],
            "text/html": [
              "\n",
              "  <div id=\"df-cf4917b5-db03-4fbe-ac9d-e6f5e1359ed9\">\n",
              "    <div class=\"colab-df-container\">\n",
              "      <div>\n",
              "<style scoped>\n",
              "    .dataframe tbody tr th:only-of-type {\n",
              "        vertical-align: middle;\n",
              "    }\n",
              "\n",
              "    .dataframe tbody tr th {\n",
              "        vertical-align: top;\n",
              "    }\n",
              "\n",
              "    .dataframe thead th {\n",
              "        text-align: right;\n",
              "    }\n",
              "</style>\n",
              "<table border=\"1\" class=\"dataframe\">\n",
              "  <thead>\n",
              "    <tr style=\"text-align: right;\">\n",
              "      <th></th>\n",
              "      <th>Unnamed: 0</th>\n",
              "      <th>Unnamed: 0.1</th>\n",
              "      <th>الاسئله</th>\n",
              "      <th>الاجابات</th>\n",
              "      <th>التصنيف</th>\n",
              "      <th>embedding</th>\n",
              "    </tr>\n",
              "  </thead>\n",
              "  <tbody>\n",
              "    <tr>\n",
              "      <th>0</th>\n",
              "      <td>0</td>\n",
              "      <td>0</td>\n",
              "      <td>قال سائل علم ليل قدر خير شهر حرص إسلام حث مسلم...</td>\n",
              "      <td>إن الله أخفى رضاه في طاعته؛ ليستزيد أصحاب الطا...</td>\n",
              "      <td>عبادات و الذكر</td>\n",
              "      <td>[-0.11088783293962479, 0.17155559360980988, 0....</td>\n",
              "    </tr>\n",
              "    <tr>\n",
              "      <th>1</th>\n",
              "      <td>1</td>\n",
              "      <td>1</td>\n",
              "      <td>قال سائل حكم رخصة إفطار مسافر رمضان ذلك ٱستكمل...</td>\n",
              "      <td>إن الله سبحانه وتعالى رخَّص للمسافر في رمضان أ...</td>\n",
              "      <td>المسافر</td>\n",
              "      <td>[-0.4510617256164551, 0.4435915946960449, -0.1...</td>\n",
              "    </tr>\n",
              "    <tr>\n",
              "      <th>2</th>\n",
              "      <td>2</td>\n",
              "      <td>2</td>\n",
              "      <td>جاز إفطار حامل مرض خاف صيام جنين ربيع هل لزم ق...</td>\n",
              "      <td>يجوز للحامل والمرضع الإفطار إذا خافتا على الجن...</td>\n",
              "      <td>عبادات و الصوم</td>\n",
              "      <td>[-0.2487999051809311, 0.11572770029306412, -0....</td>\n",
              "    </tr>\n",
              "    <tr>\n",
              "      <th>3</th>\n",
              "      <td>3</td>\n",
              "      <td>3</td>\n",
              "      <td>أراد سائل أقام حاجرا رخام مقبر أسرة حتى معروف ...</td>\n",
              "      <td>أجاز الأحناف كتابة اسم الميت فقط على القبر عند...</td>\n",
              "      <td>عبادات و الجنائز</td>\n",
              "      <td>[-0.19788236916065216, 0.6192238926887512, -0....</td>\n",
              "    </tr>\n",
              "    <tr>\n",
              "      <th>4</th>\n",
              "      <td>4</td>\n",
              "      <td>4</td>\n",
              "      <td>قاعدة نصب شريعة إسلامي تنمية ذبح شرعي حيوان طير</td>\n",
              "      <td>الذكاة الشرعية أي الذبح الشرعي معناه في شريعة ...</td>\n",
              "      <td>آداب وأخلاق</td>\n",
              "      <td>[-0.45278310775756836, 1.2245081663131714, -0....</td>\n",
              "    </tr>\n",
              "    <tr>\n",
              "      <th>...</th>\n",
              "      <td>...</td>\n",
              "      <td>...</td>\n",
              "      <td>...</td>\n",
              "      <td>...</td>\n",
              "      <td>...</td>\n",
              "      <td>...</td>\n",
              "    </tr>\n",
              "    <tr>\n",
              "      <th>4508</th>\n",
              "      <td>4508</td>\n",
              "      <td>4508</td>\n",
              "      <td>أمر تم خطبة رجل عمل خارج لما أراد عقد طلب ٱسم ...</td>\n",
              "      <td>هذا العقد باطل؛ لأنه لم يحصل فيه توكيل بعقد ال...</td>\n",
              "      <td>مجتمع وأسرة من النكاح</td>\n",
              "      <td>[0.014580236747860909, 1.011281132698059, 0.08...</td>\n",
              "    </tr>\n",
              "    <tr>\n",
              "      <th>4509</th>\n",
              "      <td>4509</td>\n",
              "      <td>4509</td>\n",
              "      <td>تقدم طلب يد ٱبن عم فتفاجات أم أبلغ ٱبن عم أرضع...</td>\n",
              "      <td>إذا رضع كل منكما من زوجة العم هذه خمس رضعات مش...</td>\n",
              "      <td>مجتمع وأسرة من الرجاء</td>\n",
              "      <td>[-0.5928065180778503, -0.4462440013885498, -0....</td>\n",
              "    </tr>\n",
              "    <tr>\n",
              "      <th>4510</th>\n",
              "      <td>4510</td>\n",
              "      <td>4510</td>\n",
              "      <td>شاب أراد زواج فتاة رفعت والد أخت أصغر ركعة مطب...</td>\n",
              "      <td>المقرر شرعًا أنه يحرم من الرضاع ما يحرم من الن...</td>\n",
              "      <td>مجتمع وأسرة من الرجاء</td>\n",
              "      <td>[-0.26083192229270935, 0.612537682056427, -0.4...</td>\n",
              "    </tr>\n",
              "    <tr>\n",
              "      <th>4511</th>\n",
              "      <td>4511</td>\n",
              "      <td>4511</td>\n",
              "      <td>خرج كفارة ني أم مطبوخ</td>\n",
              "      <td>جمهور الفقهاء يشترطون في إخراج الكفارة التمليك...</td>\n",
              "      <td>شؤون عادات و الذبائح في الأضحية في النذور</td>\n",
              "      <td>[0.06161949411034584, 0.05772264301776886, -0....</td>\n",
              "    </tr>\n",
              "    <tr>\n",
              "      <th>4512</th>\n",
              "      <td>4512</td>\n",
              "      <td>4512</td>\n",
              "      <td>حكم إخراج زكاة مال شكل إفطار صائم</td>\n",
              "      <td>تفطير الصائمين أو ما يُعْرَف بـ\"موائد الرحمن\" ...</td>\n",
              "      <td>عبادات و الزكاة</td>\n",
              "      <td>[-0.5427500009536743, 0.9218608140945435, 0.28...</td>\n",
              "    </tr>\n",
              "  </tbody>\n",
              "</table>\n",
              "<p>4513 rows × 6 columns</p>\n",
              "</div>\n",
              "      <button class=\"colab-df-convert\" onclick=\"convertToInteractive('df-cf4917b5-db03-4fbe-ac9d-e6f5e1359ed9')\"\n",
              "              title=\"Convert this dataframe to an interactive table.\"\n",
              "              style=\"display:none;\">\n",
              "        \n",
              "  <svg xmlns=\"http://www.w3.org/2000/svg\" height=\"24px\"viewBox=\"0 0 24 24\"\n",
              "       width=\"24px\">\n",
              "    <path d=\"M0 0h24v24H0V0z\" fill=\"none\"/>\n",
              "    <path d=\"M18.56 5.44l.94 2.06.94-2.06 2.06-.94-2.06-.94-.94-2.06-.94 2.06-2.06.94zm-11 1L8.5 8.5l.94-2.06 2.06-.94-2.06-.94L8.5 2.5l-.94 2.06-2.06.94zm10 10l.94 2.06.94-2.06 2.06-.94-2.06-.94-.94-2.06-.94 2.06-2.06.94z\"/><path d=\"M17.41 7.96l-1.37-1.37c-.4-.4-.92-.59-1.43-.59-.52 0-1.04.2-1.43.59L10.3 9.45l-7.72 7.72c-.78.78-.78 2.05 0 2.83L4 21.41c.39.39.9.59 1.41.59.51 0 1.02-.2 1.41-.59l7.78-7.78 2.81-2.81c.8-.78.8-2.07 0-2.86zM5.41 20L4 18.59l7.72-7.72 1.47 1.35L5.41 20z\"/>\n",
              "  </svg>\n",
              "      </button>\n",
              "      \n",
              "  <style>\n",
              "    .colab-df-container {\n",
              "      display:flex;\n",
              "      flex-wrap:wrap;\n",
              "      gap: 12px;\n",
              "    }\n",
              "\n",
              "    .colab-df-convert {\n",
              "      background-color: #E8F0FE;\n",
              "      border: none;\n",
              "      border-radius: 50%;\n",
              "      cursor: pointer;\n",
              "      display: none;\n",
              "      fill: #1967D2;\n",
              "      height: 32px;\n",
              "      padding: 0 0 0 0;\n",
              "      width: 32px;\n",
              "    }\n",
              "\n",
              "    .colab-df-convert:hover {\n",
              "      background-color: #E2EBFA;\n",
              "      box-shadow: 0px 1px 2px rgba(60, 64, 67, 0.3), 0px 1px 3px 1px rgba(60, 64, 67, 0.15);\n",
              "      fill: #174EA6;\n",
              "    }\n",
              "\n",
              "    [theme=dark] .colab-df-convert {\n",
              "      background-color: #3B4455;\n",
              "      fill: #D2E3FC;\n",
              "    }\n",
              "\n",
              "    [theme=dark] .colab-df-convert:hover {\n",
              "      background-color: #434B5C;\n",
              "      box-shadow: 0px 1px 3px 1px rgba(0, 0, 0, 0.15);\n",
              "      filter: drop-shadow(0px 1px 2px rgba(0, 0, 0, 0.3));\n",
              "      fill: #FFFFFF;\n",
              "    }\n",
              "  </style>\n",
              "\n",
              "      <script>\n",
              "        const buttonEl =\n",
              "          document.querySelector('#df-cf4917b5-db03-4fbe-ac9d-e6f5e1359ed9 button.colab-df-convert');\n",
              "        buttonEl.style.display =\n",
              "          google.colab.kernel.accessAllowed ? 'block' : 'none';\n",
              "\n",
              "        async function convertToInteractive(key) {\n",
              "          const element = document.querySelector('#df-cf4917b5-db03-4fbe-ac9d-e6f5e1359ed9');\n",
              "          const dataTable =\n",
              "            await google.colab.kernel.invokeFunction('convertToInteractive',\n",
              "                                                     [key], {});\n",
              "          if (!dataTable) return;\n",
              "\n",
              "          const docLinkHtml = 'Like what you see? Visit the ' +\n",
              "            '<a target=\"_blank\" href=https://colab.research.google.com/notebooks/data_table.ipynb>data table notebook</a>'\n",
              "            + ' to learn more about interactive tables.';\n",
              "          element.innerHTML = '';\n",
              "          dataTable['output_type'] = 'display_data';\n",
              "          await google.colab.output.renderOutput(dataTable, element);\n",
              "          const docLink = document.createElement('div');\n",
              "          docLink.innerHTML = docLinkHtml;\n",
              "          element.appendChild(docLink);\n",
              "        }\n",
              "      </script>\n",
              "    </div>\n",
              "  </div>\n",
              "  "
            ]
          },
          "metadata": {},
          "execution_count": 46
        }
      ]
    },
    {
      "cell_type": "code",
      "source": [
        "# train.to_csv(\"/content/drive/MyDrive/Rule based data /Fatawy_train_embedding.csv\")"
      ],
      "metadata": {
        "id": "PhLAYyu73vQZ"
      },
      "execution_count": null,
      "outputs": []
    },
    {
      "cell_type": "code",
      "source": [
        "def Classification(data,classification):\n",
        "  classQuestions=[]\n",
        "  classAnswers=[]\n",
        "  classEmbeddings=[]\n",
        "  for i in range(len(data)):\n",
        "    if data['التصنيف'][i]==classification:\n",
        "      classEmbeddings.append(data['embedding'][i])\n",
        "      classAnswers.append(data['الاجابات'][i])\n",
        "      classQuestions.append(data['الاسئله'][i])\n",
        "  return classQuestions,classAnswers,classEmbeddings\n",
        "  # print(classAnswers)\n",
        "  # len(classQuestions)\n"
      ],
      "metadata": {
        "id": "TdmmC-HtZp6G"
      },
      "execution_count": null,
      "outputs": []
    },
    {
      "cell_type": "markdown",
      "source": [
        "##similarity and evaluation"
      ],
      "metadata": {
        "id": "5c_pE7yN3xn_"
      }
    },
    {
      "cell_type": "code",
      "source": [
        "def get_answer(q_encode,classEmbeddings,classAnswers):\n",
        "  x_val = cosine_similarity(\n",
        "      [q_encode[0]],\n",
        "      classEmbeddings[:]\n",
        "  )\n",
        "  percentage=max(x_val[0])#percentage of the similarity\n",
        "  ANSWER=x_val.argmax() #get answer index\n",
        "  return classAnswers[ANSWER]"
      ],
      "metadata": {
        "id": "XDeRyUP4JJ5V"
      },
      "execution_count": null,
      "outputs": []
    },
    {
      "cell_type": "code",
      "source": [
        "classification='جنايات وقضية ما جنايات'\n",
        "question=['هتنظيم ديني متطرف أعلن تقديم مكافأة مالي قتل دبلوماسي عسكري ود معرفة حكم شرعي ما أول كرة قتل ثاني قتل شخص دخل مظلة عقد أمان حماية دبلوماسي سائح أجنبي مقيم بلد إسلامي غرض عمل']\n",
        "q_encode=model.encode(question)\n",
        "classQuestions,classAnswers,classEmbeddings=Classification(data,classification)\n",
        "answer=get_answer(q_encode,classEmbeddings,classAnswers)\n",
        "answer"
      ],
      "metadata": {
        "id": "YsoeMxLTOaJo",
        "colab": {
          "base_uri": "https://localhost:8080/",
          "height": 88
        },
        "outputId": "9ea574d7-6d99-49d4-e8e0-4bb44596ebd6"
      },
      "execution_count": null,
      "outputs": [
        {
          "output_type": "execute_result",
          "data": {
            "text/plain": [
              "'الاعتداء على النفس الإنسانية بالأذى أو القتل بغير حقٍّ حرامٌ شرعًا ومن أكبر الكبائر؛ سواء كان ذلك واقعًا على الدبلوماسيين أو السائحين أو الأجانب المقيمين في البلاد الإسلامية بغرض العمل فيها أو غيرهم؛ لأن الأصل في نفوسهم ودمائهم وأموالهم أنها معصومة ومحرَّمة، كما أن وجودهم تابع لما أخذوه بعهد الأمان التابع لتأشيرة الدخول، ولا يجوز مخالفة عهود الأمان؛ لما في ذلك من الغدر المحرَّم، ولارتباطها وتعلقها بالذمم؛ قال تعالى: ﴿يَا أَيُّهَا الَّذِينَ آمَنُوا أَوْفُوا بِالْعُقُودِ﴾ [المائدة: 1]، وقال صلى الله عليه وآله وسلم: «مَنْ قَتَلَ مُعَاهَدًا لَمْ يَرِحْ رَائِحَةَ الجَنَّةِ، وَإِنَّ رِيحَهَا تُوجَدُ مِنْ مَسِيرَةِ أَرْبَعِينَ عَامًا» رواه البخاري.أما عن بذل المال للغير نظير قيامه بتلك الاغتيالات؛ فهو من الإجارات الفاسدة التي لا تنعقد، وبذل المال من المحرِّض وقبوله من المحرَّض أمران محرَّمان شرعًا؛ لقوله تعالى: ﴿وَلَا تَعَاوَنُوا عَلَى الْإِثْمِ وَالْعُدْوَانِ﴾ [المائدة: 2]، ولأن المنفعة المقصودة فيه محرَّمة وهي القتل وسفك الدماء، فكان بذل المال في سبيلها محرَّم أيضًا.                                                                                            '"
            ],
            "application/vnd.google.colaboratory.intrinsic+json": {
              "type": "string"
            }
          },
          "metadata": {},
          "execution_count": 50
        }
      ]
    },
    {
      "cell_type": "code",
      "source": [
        "predicted_answers=[]\n",
        "Similarity=[]\n",
        "label=[]\n",
        "for i in range(len(val)):\n",
        "#for i in range(0,10):\n",
        "  # q_val = [preprocess_text(val['الاسئله'][i])]\n",
        "  q_val = [val['الاسئله'][i]]\n",
        "  q_val_en = model.encode(q_val)\n",
        "\n",
        "  classification=val['التصنيف'][i]\n",
        "\n",
        "  classQuestions,classAnswers,classEmbeddings=Classification(data,classification)\n",
        "  \n",
        "  if  classQuestions:\n",
        "    answer=get_answer(q_val_en,classEmbeddings,classAnswers)\n",
        "    an_val = model.encode(val['الاجابات'][i])\n",
        "    an_train = model.encode(answer)\n",
        "    sim= cosine_similarity(\n",
        "      [an_val],\n",
        "      [an_train]\n",
        "    )\n",
        "    predicted_answers.append(answer)\n",
        "    Similarity.append(sim[0][0])\n",
        "  else:\n",
        "    answer=''\n",
        "    sim=0\n",
        "    predicted_answers.append(answer)\n",
        "    Similarity.append(sim)\n",
        "  if(sim>=0.8):\n",
        "    label.append(1)\n",
        "  elif(sim<0.8):\n",
        "    label.append(0)"
      ],
      "metadata": {
        "id": "a9ehZnC5Jp4r"
      },
      "execution_count": null,
      "outputs": []
    },
    {
      "cell_type": "code",
      "source": [
        "q_val"
      ],
      "metadata": {
        "id": "2US7pBBZkWqN",
        "colab": {
          "base_uri": "https://localhost:8080/"
        },
        "outputId": "cca1de5f-5847-4fa1-ce38-eeebe957a152"
      },
      "execution_count": null,
      "outputs": [
        {
          "output_type": "execute_result",
          "data": {
            "text/plain": [
              "['حكم إخراج زكاة مال شكل إفطار صائم']"
            ]
          },
          "metadata": {},
          "execution_count": 61
        }
      ]
    },
    {
      "cell_type": "code",
      "source": [
        "print(label)\n",
        "# print(Similarity)\n",
        "# print(predicted_answers)\n",
        "# val['الاجابات'][:3]"
      ],
      "metadata": {
        "id": "P-Jroap8Acuy",
        "colab": {
          "base_uri": "https://localhost:8080/"
        },
        "outputId": "678954cd-fecd-4bea-aad1-5ef1fd368ba2"
      },
      "execution_count": null,
      "outputs": [
        {
          "output_type": "stream",
          "name": "stdout",
          "text": [
            "[1, 1, 1, 1, 1, 1, 1, 1, 1, 1, 1, 1, 1, 1, 1, 1, 1, 1, 1, 1, 1, 1, 1, 1, 1, 1, 1, 1, 1, 1, 1, 1, 1, 1, 1, 1, 1, 1, 1, 1, 1, 1, 1, 1, 1, 1, 1, 1, 1, 1, 1, 1, 1, 1, 1, 1, 1, 1, 1, 1, 1, 1, 1, 1, 1, 1, 1, 1, 1, 1, 1, 1, 1, 1, 1, 1, 1, 1, 1, 1, 1, 1, 1, 1, 1, 1, 1, 1, 1, 1, 1, 1, 1, 1, 1, 1, 1, 1, 1, 1, 1, 1, 1, 1, 1, 1, 1, 1, 1, 1, 1, 1, 1, 1, 1, 1, 1, 1, 1, 1, 1, 1, 1, 1, 1, 1, 1, 1, 1, 1, 1, 1, 1, 1, 1, 1, 1, 1, 1, 1, 1, 1, 1, 1, 1, 1, 1, 1, 1, 1, 1, 1, 1, 1, 1, 1, 1, 1, 1, 1, 1, 1, 1, 1, 1, 1, 1, 1, 1, 1, 1, 1, 1, 1, 1, 1, 1, 1, 1, 1, 1, 1, 1, 1, 1, 1, 1, 1, 1, 1, 1, 1, 1, 1, 1, 1, 1, 1, 1, 1, 1, 1, 1, 1, 1, 1, 1, 1, 1, 1, 1, 1, 1, 1, 1, 1, 1, 1, 1, 1, 1, 1, 1, 1, 1, 1, 1, 1, 1, 1, 1, 1, 1, 1, 1, 1, 1, 1, 1, 1, 1, 1, 1, 1, 1, 1, 1, 1, 1, 1, 1, 1, 1, 1, 1, 1, 1, 1, 1, 1, 1, 1, 1, 1, 1, 1, 1, 1, 1, 1, 1, 1, 1, 1, 1, 1, 1, 1, 1, 1, 1, 1, 1, 1, 1, 1, 1, 1, 1, 1, 1, 1, 1, 1, 1, 1, 1, 1, 1, 1, 1, 1, 1, 1, 1, 1, 1, 1, 1, 1, 1, 1, 1, 1, 1, 1, 1, 1, 1, 1, 1, 1, 1, 1, 1, 1, 1, 1, 1, 1, 1, 1, 1, 1, 1, 1, 1, 1, 1, 1, 1, 1, 1, 1, 1, 1, 1, 1, 1, 1, 1, 1, 1, 1, 1, 1, 1, 1, 1, 1, 1, 1, 1, 1, 1, 1, 1, 1, 1, 1, 1, 1, 1, 1, 1, 1, 1, 1, 1, 1, 1, 1, 1, 1, 1, 1, 1, 1, 1, 1, 1, 1, 1, 1, 1, 1, 1, 1, 1, 1, 1, 1, 1, 1, 1, 1, 1, 1, 1, 1, 1, 1, 1, 1, 1, 1, 1, 1, 1, 1, 1, 1, 1, 1, 1, 1, 1, 1, 1, 1, 1, 1, 1, 1, 1, 1, 1, 1, 1, 1, 1, 1, 1, 1, 1, 1, 1, 1, 1, 1, 1, 1, 1, 1, 1, 1, 1, 1, 1, 1, 1, 1, 1, 1, 1, 1, 1, 1, 1, 1, 1, 1, 1, 1, 1, 1, 1, 1, 1, 1, 1, 1, 1, 1, 1, 1, 1, 1, 1, 1, 1, 1, 1, 1, 1, 1, 1, 1, 1, 1, 1, 1, 1, 1, 1, 1, 1, 1, 1, 1, 1, 1, 1, 1, 1, 1, 1, 1, 1, 1, 1, 1, 1, 1, 1, 1, 1, 1, 1, 1, 1, 1, 1, 1, 1, 1, 1, 1, 1, 1, 1, 1, 1, 1, 1, 1, 1, 1, 1, 1, 1, 1, 1, 1, 1, 1, 1, 1, 1, 1, 1, 1, 1, 1, 1, 1, 1, 1, 1, 1, 1, 1, 1, 1, 1, 1, 1, 1, 1, 1, 1, 1, 1, 1, 1, 1, 1, 1, 1, 1, 1, 1, 1, 1, 1, 1, 1, 1, 1, 1, 1, 1, 1, 1, 1, 1, 1, 0, 1, 1, 1, 1, 1, 1, 1, 1, 1, 1, 1, 1, 1, 1, 1, 1, 1, 1, 1, 1, 1, 1, 1, 1, 1, 1, 1, 1, 1, 1, 1, 1, 1, 1, 1, 1, 1, 1, 1, 1, 1, 1, 1, 1, 1, 1, 1, 1, 1, 1, 1, 1, 1, 1, 1, 1, 1, 1, 1, 1, 1, 1, 1, 1, 1, 1, 1, 1, 0, 1, 1, 1, 1, 1, 1, 1, 1, 0, 1, 1, 1, 1, 1, 1, 1, 1, 0, 1, 1, 1, 1, 1, 1, 1, 1, 1, 1, 1, 1, 1, 1, 1, 1, 1, 1, 1, 1, 1, 1, 1, 1, 1, 1, 1, 1, 1, 1, 1, 1, 1, 1, 1, 1, 1, 1, 1, 1, 1, 1, 1, 1, 1, 1, 1, 1, 1, 1, 1, 1, 1, 1, 1, 1, 1, 1, 1, 1, 1, 1, 1, 1, 1, 1, 1, 1, 1, 1, 1, 1, 1, 1, 1, 1, 1, 1, 1, 1, 1, 1, 1, 1, 1, 1, 1, 1, 1, 1, 1, 1, 1, 1, 1, 1, 1, 1, 1, 1, 1, 1, 1, 1, 1, 1, 1, 1, 1, 1, 1, 1, 1, 1, 1, 1, 1, 1, 1, 1, 1, 1, 1, 1, 1, 1, 1, 1, 1, 1, 1, 1, 1, 1, 1, 1, 1, 1, 1, 1, 1, 1, 1, 1, 1, 1, 1, 1, 1, 1, 1, 1, 1, 1, 1, 1, 1, 1, 1, 1, 1, 1, 1, 1, 1, 1, 1, 1, 1, 1, 1, 1, 1, 1, 1, 1, 1, 1, 1, 1, 1, 1, 1, 1, 1, 1, 1, 1, 1, 1, 1, 1, 1, 1, 1, 1, 1, 1, 1, 1, 1, 1, 1, 1, 1, 1, 1, 1, 1, 1, 1, 1, 1, 1, 1, 1, 1, 1, 1, 1, 1, 1, 1, 1, 1, 1, 1, 1, 1, 1, 1, 1, 1, 1, 1, 1, 1, 1, 1, 1, 1, 1, 1, 1, 1, 1, 1, 1, 1, 1, 1, 1, 1, 1, 1, 1, 1, 1, 1, 1, 1, 1, 1, 1, 1, 1, 1, 1, 1, 1, 1, 1, 1, 1, 1, 1, 1, 1, 1, 1, 1, 1, 1, 1, 1, 1, 1, 1, 1, 1, 1, 1, 1, 1, 1, 1, 1, 1, 1, 1, 1, 1, 1, 1, 1, 1, 1, 1, 1, 1, 1, 1, 1, 1, 1, 1, 1, 1, 1, 1, 1, 1, 1, 1, 1, 1, 1, 1, 1, 1, 1, 1, 1, 1, 1, 1, 1, 1, 1, 1, 1, 1, 1, 1, 1, 1, 1, 1, 1, 1, 1, 1, 1, 1, 1, 1, 1, 1, 1, 1, 1, 1, 1, 1, 1, 1, 1, 1, 1, 1, 1, 1, 1, 1, 1, 1, 1, 1, 1, 1, 1, 1, 1, 1, 1, 1, 1, 1, 1, 1, 1, 1, 1, 1, 1, 1, 1, 1, 1, 1, 1, 1, 1, 1, 1, 1, 1, 1, 1, 1, 1, 1, 1, 1, 1, 1, 1, 1, 1, 1, 1, 1, 1, 1, 1, 1, 1, 1, 1, 1, 1, 1, 1, 1, 1, 1, 1, 1, 1, 1, 1, 1, 1, 1, 1, 1, 1, 1, 1, 1, 1, 1, 1, 1, 1, 1, 1, 1, 1, 1, 1, 1, 1, 1, 1, 1, 1, 1, 1, 1, 1, 1, 1, 1, 1, 1, 1, 1, 1, 1, 1, 1, 1, 1, 1, 1, 1, 1, 1, 1, 1, 1, 1, 1, 1, 1, 1, 1, 1, 1, 1, 1, 1, 1, 1, 1, 1, 1, 1, 1, 1, 1, 1, 1, 1, 1, 1, 1, 1, 1, 1, 1, 1, 1, 1, 1, 1, 1, 1, 1, 1, 1, 1, 1, 1, 1, 1, 1, 1, 1, 1, 1, 1, 1, 1, 1, 1, 1, 1, 1, 1, 1, 1, 1, 1, 1, 1, 1, 1, 1, 1, 1, 1, 1, 1, 1, 1, 1, 1, 1, 1, 1, 1, 1, 1, 1, 1, 1, 1, 1, 1, 1, 1, 1, 1, 1, 1, 1, 1, 1, 1, 1, 1, 1, 1, 1, 1, 1, 1, 1, 1, 1, 1, 1, 1, 1, 1, 1, 1, 1, 1, 1, 1, 1, 1, 1, 1, 1, 1, 1, 1, 1, 1, 1, 1, 1, 1, 1, 1, 1, 1, 1, 1, 1, 1, 1, 1, 1, 1, 1, 1, 1, 1, 1, 1, 1, 1, 1, 1, 1, 1, 1, 1, 1, 1, 1, 1, 1, 1, 1, 1, 1, 1, 1, 1, 1, 1, 1, 1, 1, 1, 1, 1, 1, 1, 1, 1, 1, 1, 1, 1, 1, 1, 1, 1, 1, 1, 1, 1, 1, 1, 1, 1, 1, 1, 1, 1, 1, 1, 1, 1, 1, 1, 1, 1, 1, 1, 1, 1, 1, 1, 1, 1, 1, 1, 1, 1, 1, 1, 1, 1, 1, 1, 1, 1, 1, 1, 1, 1, 1, 1, 1, 1, 1, 1, 1, 1, 1, 1, 1, 1, 1, 1, 1, 1, 1, 1, 1, 1, 1, 1, 1, 1, 1, 1, 1, 1, 1, 1, 1, 1, 1, 1, 1, 1, 1, 1, 1, 1, 1, 1, 1, 1, 1, 1, 1, 1, 1, 1, 1, 1, 1, 1, 1, 1, 1, 1, 1, 1, 1, 1, 1, 1, 1, 1, 1, 1, 1, 1, 1, 1, 1, 1, 1, 1, 1, 1, 1, 1, 1, 1, 1, 1, 1, 1, 1, 1, 1]\n"
          ]
        }
      ]
    },
    {
      "cell_type": "code",
      "source": [
        "print(len(val))\n",
        "print(len(label))"
      ],
      "metadata": {
        "id": "58ZHtRTUEV-3",
        "colab": {
          "base_uri": "https://localhost:8080/"
        },
        "outputId": "53135fed-bc06-47a0-b3b6-af73b74e89fb"
      },
      "execution_count": null,
      "outputs": [
        {
          "output_type": "stream",
          "name": "stdout",
          "text": [
            "1513\n",
            "1513\n"
          ]
        }
      ]
    },
    {
      "cell_type": "code",
      "source": [
        "sum=0\n",
        "for i in label:\n",
        "  sum=sum+i\n",
        "sum"
      ],
      "metadata": {
        "id": "MHB-j6BbG4ou",
        "colab": {
          "base_uri": "https://localhost:8080/"
        },
        "outputId": "64778af1-d268-48c7-8031-ba76fd263076"
      },
      "execution_count": null,
      "outputs": [
        {
          "output_type": "execute_result",
          "data": {
            "text/plain": [
              "1509"
            ]
          },
          "metadata": {},
          "execution_count": 64
        }
      ]
    },
    {
      "cell_type": "code",
      "source": [
        "sum/len(val)"
      ],
      "metadata": {
        "id": "j14D4aVrKdKQ",
        "colab": {
          "base_uri": "https://localhost:8080/"
        },
        "outputId": "a445e0bf-42a5-49c2-a6a0-be017f7a77a8"
      },
      "execution_count": null,
      "outputs": [
        {
          "output_type": "execute_result",
          "data": {
            "text/plain": [
              "0.9973562458691342"
            ]
          },
          "metadata": {},
          "execution_count": 65
        }
      ]
    },
    {
      "cell_type": "code",
      "source": [
        "per = (sum/len(val)) * 100 "
      ],
      "metadata": {
        "id": "-p1LVaxFj_UZ"
      },
      "execution_count": null,
      "outputs": []
    },
    {
      "cell_type": "code",
      "source": [
        "print(per)"
      ],
      "metadata": {
        "id": "AeuDMSRgkHU7",
        "colab": {
          "base_uri": "https://localhost:8080/"
        },
        "outputId": "51d842a8-bfc2-4e0c-f33e-ea82429dd60a"
      },
      "execution_count": null,
      "outputs": [
        {
          "output_type": "stream",
          "name": "stdout",
          "text": [
            "99.73562458691342\n"
          ]
        }
      ]
    },
    {
      "cell_type": "markdown",
      "source": [
        "**Sending list of classifications uniquely**"
      ],
      "metadata": {
        "id": "PN6WZiVxjdAl"
      }
    },
    {
      "cell_type": "code",
      "source": [
        "print(data['التصنيف'].unique())\n",
        "len(data['التصنيف'].unique())"
      ],
      "metadata": {
        "colab": {
          "base_uri": "https://localhost:8080/"
        },
        "id": "l3fyXVX6jba2",
        "outputId": "966f0e44-8bb1-4122-99e8-e0b15bb12ae6"
      },
      "execution_count": null,
      "outputs": [
        {
          "output_type": "stream",
          "name": "stdout",
          "text": [
            "['عبادات و الذكر' 'المسافر' 'عبادات و الصوم' 'عبادات و الجنائز'\n",
            " 'آداب وأخلاق' 'العلوم والفنون' 'عبادات و الزكاة' 'عبادات و الصلاة'\n",
            " 'معاملات مالية' 'الصحة' 'معاملات مالية من الديون' 'شؤون عادات و الذبائح'\n",
            " 'عقائد و شبهات' 'أحوال شخصية' 'المرأة' 'ذبائح وأغذية'\n",
            " 'معاملات مالية من التعويضات' 'عقائد و النبوات'\n",
            " 'شؤون عادات و أحكام المولود' 'مجتمع وأسرة من الميراث' 'المجتمع'\n",
            " 'مجتمع وأسرة من فقه المرأة' 'قيم وأخلاق' 'ذوي الهمم' 'عبادات و الطهارة'\n",
            " 'فتاوى حديثة' 'الإرهاب والتطرف' 'شؤون عادات و الاختلاط'\n",
            " 'معاملات مالية من الكسب' 'مجتمع وأسرة من الطلاق' 'معاملات مالية من البيع'\n",
            " 'عقائد و الإلهيات' 'معاملات مالية من الوقف' 'معاملات مالية من الربا'\n",
            " 'معاملات مالية من الاستثمار' 'معاملات مالية من التأمين'\n",
            " 'معاملات مالية من الحجر' 'الأسرة' 'شؤون عادات و الطب والتداوي'\n",
            " 'مجتمع وأسرة من بر الوالدين' 'شؤون عادات و الاحتفالات'\n",
            " 'معاملات مالية من الهبة' 'عقائد و السمعيات' 'مجتمع وأسرة من النكاح'\n",
            " 'الرئيسية في الفتاوى' 'شؤون عادات و أطعمة وأشرطة' 'عام' 'جنايات وقضية'\n",
            " 'مجتمع وأسرة من الوصية' 'عقائد و الفرق'\n",
            " 'شؤون عادات و النذور في الجذر من التصنيف العام'\n",
            " 'شؤون عادات و الذبائح في الأضحية في النذور' 'عبادات'\n",
            " 'مجتمع وأسرة من النفقات' 'مجتمع وأسرة من الحضانة' 'مجتمع وأسرة من العدة'\n",
            " 'جنايات وقضية ما جنايات' 'معاملات مالية من المعاملات الحديثة'\n",
            " 'جنايات وقضية ما التقاضي والشهادات' 'مجتمع وأسرة من الرجاء'\n",
            " 'شؤون عادات و اللباس والزينة' 'جنايات وقضية ما البغاة'\n",
            " 'عبادات و الحج والعمرة' 'عقائد' 'شؤون عادات' 'مجتمع وأسرة من الخلع'\n",
            " 'مستجدات ونوازل' 'رياضة وترفيه' 'معاملات مالية من السلم'\n",
            " 'معاملات مالية من المضاربة' 'مجتمع وأسرة من النسب' 'مجتمع وأسرة'\n",
            " 'معاملات مالية من المرابحة' 'جنايات وقضية ما الزنا' 'البيئة'\n",
            " 'معاملات مالية من الإجارة' 'معاملات مالية من الوكالة'\n",
            " 'جنايات وقضية ما دعاوى وبنيات' 'معاملات مالية من البورصة'\n",
            " 'معاملات مالية من الرهن' 'مجتمع وأسرة من الحمل' nan\n",
            " 'جنايات وقضية ما القصاص والآيات' 'شؤون عادات و الذبائح في الأضحية'\n",
            " 'شؤون عادات و النذور في الجذر من عقيدة' 'معاملات مالية من الحوالة'\n",
            " 'معاملات مالية من القرض' 'شؤون عادات و أحكام غير المسلمين'\n",
            " 'شؤون عادات و الذبائح في العقيقة' 'معاملات مالية من الشفعة'\n",
            " 'معاملات مالية من اللقطة']\n"
          ]
        },
        {
          "output_type": "execute_result",
          "data": {
            "text/plain": [
              "91"
            ]
          },
          "metadata": {},
          "execution_count": 68
        }
      ]
    }
  ]
}