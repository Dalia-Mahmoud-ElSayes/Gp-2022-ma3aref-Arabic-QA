{
  "nbformat": 4,
  "nbformat_minor": 0,
  "metadata": {
    "colab": {
      "name": "AraBERT with fast-bert.ipynb",
      "provenance": [],
      "collapsed_sections": []
    },
    "kernelspec": {
      "name": "python3",
      "display_name": "Python 3"
    },
    "accelerator": "GPU"
  },
  "cells": [
    {
      "cell_type": "markdown",
      "metadata": {
        "id": "AJjO8aFQKZ2T",
        "colab_type": "text"
      },
      "source": [
        "#Fine-tune AraBERT with Fast-BERT library\n",
        "https://github.com/kaushaltrivedi/fast-ber"
      ]
    },
    {
      "cell_type": "markdown",
      "metadata": {
        "id": "vTWKMKNjKi6R",
        "colab_type": "text"
      },
      "source": [
        "##Get Requirements"
      ]
    },
    {
      "cell_type": "code",
      "metadata": {
        "id": "8B0SkCH-BWQ2",
        "colab_type": "code",
        "colab": {}
      },
      "source": [
        "!git clone https://github.com/aub-mind/arabert\n",
        "!pip install PyArabic farasapy fast-bert"
      ],
      "execution_count": null,
      "outputs": []
    },
    {
      "cell_type": "markdown",
      "metadata": {
        "id": "yF046S5JKnCw",
        "colab_type": "text"
      },
      "source": [
        "##Prepare the data"
      ]
    },
    {
      "cell_type": "code",
      "metadata": {
        "id": "iCcdj_eiBrj3",
        "colab_type": "code",
        "colab": {
          "base_uri": "https://localhost:8080/",
          "height": 255
        },
        "outputId": "65d4db85-679b-4c1e-e5eb-00206e39dd6a"
      },
      "source": [
        "import pandas as pd\n",
        "#from py4j.java_gateway import JavaGateway\n",
        "from farasa.segmenter import FarasaSegmenter\n",
        "from arabert.preprocess_arabert import preprocess\n",
        "from sklearn.model_selection import train_test_split\n",
        "\n",
        "# !pkill \"java\"\n",
        "# gateway = JavaGateway.launch_gateway(classpath='./FarasaSegmenterJar.jar')\n",
        "# farasa_segmenter = gateway.jvm.com.qcri.farasa.segmenter.Farasa()\n",
        "\n",
        "farasa_segmenter = FarasaSegmenter(interactive=True)\n",
        "\n",
        "df_AJGT = pd.read_excel('./arabert/AJGT.xlsx',header=0)\n",
        "\n",
        "DATA_COLUMN = 'text'\n",
        "LABEL_COLUMN = 'label'\n",
        "\n",
        "df_AJGT = df_AJGT[['Feed', 'Sentiment']]\n",
        "df_AJGT.columns = [DATA_COLUMN, LABEL_COLUMN]\n",
        "\n",
        "label_map = {\n",
        "    'Negative' : 0,\n",
        "    'Positive' : 1\n",
        "}\n",
        "\n",
        "df_AJGT[DATA_COLUMN] = df_AJGT[DATA_COLUMN].apply(lambda x: preprocess(x, do_farasa_tokenization=True , farasa=farasa_segmenter, use_farasapy = True))\n",
        "# df_AJGT[LABEL_COLUMN] = df_AJGT[LABEL_COLUMN].apply(lambda x: label_map[x])\n",
        "\n",
        "train_AJGT, test_AJGT = train_test_split(df_AJGT, test_size=0.2,random_state=42)\n",
        "!mkdir data\n",
        "train_AJGT.to_csv(\"data/train.csv\",index=True,columns=train_AJGT.columns,sep=',',header=True)\n",
        "test_AJGT.to_csv(\"data/dev.csv\",index=True,columns=test_AJGT.columns,sep=',',header=True)\n",
        "with open('data/labels.csv','w') as f:\n",
        "  f.write(\"\\n\".join(df_AJGT['label'].unique()))"
      ],
      "execution_count": 2,
      "outputs": [
        {
          "output_type": "stream",
          "text": [
            "perform system check...\n",
            "check java version...\n",
            "Your java version is 11.0 which is compatiple with Farasa \n",
            "check toolkit binaries...\n",
            "some binaries are not existed..\n",
            "downloading zipped binaries...\n",
            "100%|██████████| 200M/200M [00:06<00:00, 30.6MiB/s]\n",
            "extracting...\n",
            "toolkit binaries are downloaded and extracted.\n",
            "Dependencies seem to be satisfied..\n",
            "\u001b[37minitializing [SEGMENT] task in \u001b[32mINTERACTIVE \u001b[37mmode...\n"
          ],
          "name": "stdout"
        },
        {
          "output_type": "stream",
          "text": [
            "/usr/local/lib/python3.6/dist-packages/farasa/__base.py:45: UserWarning: Be careful with large lines as they may break on interactive mode. You may switch to Standalone mode for such cases.\n",
            "  \"Be careful with large lines as they may break on interactive mode. You may switch to Standalone mode for such cases.\"\n"
          ],
          "name": "stderr"
        },
        {
          "output_type": "stream",
          "text": [
            "task [SEGMENT] is initialized interactively.\n"
          ],
          "name": "stdout"
        }
      ]
    },
    {
      "cell_type": "code",
      "metadata": {
        "id": "7pE7BPGACAHs",
        "colab_type": "code",
        "colab": {}
      },
      "source": [
        "with open('data/labels.csv','w') as f:\n",
        "  f.write(\"\\n\".join(df_AJGT['label'].unique()))"
      ],
      "execution_count": 5,
      "outputs": []
    },
    {
      "cell_type": "markdown",
      "metadata": {
        "id": "-LANtQdwKrFn",
        "colab_type": "text"
      },
      "source": [
        "##Create a DataBunch Object:\n",
        "see https://github.com/kaushaltrivedi/fast-bert#text-classification"
      ]
    },
    {
      "cell_type": "code",
      "metadata": {
        "id": "2lVY_0-tCFRL",
        "colab_type": "code",
        "colab": {}
      },
      "source": [
        "from fast_bert.data_cls import BertDataBunch\n",
        "from transformers import AutoTokenizer\n",
        "\n",
        "tokenizer = AutoTokenizer.from_pretrained('aubmindlab/bert-base-arabert')\n",
        "\n",
        "databunch = BertDataBunch('./data/', './data/',\n",
        "                          tokenizer=tokenizer,\n",
        "                          train_file='train.csv',\n",
        "                          val_file='dev.csv',\n",
        "                          label_file='labels.csv',\n",
        "                          text_col='text',\n",
        "                          label_col='label',\n",
        "                          batch_size_per_gpu=16,\n",
        "                          max_seq_length=256,\n",
        "                          multi_gpu=True,\n",
        "                          multi_label=False,\n",
        "                          model_type='bert',\n",
        "                          )"
      ],
      "execution_count": 9,
      "outputs": []
    },
    {
      "cell_type": "markdown",
      "metadata": {
        "id": "G41boItaK4dP",
        "colab_type": "text"
      },
      "source": [
        "##Create the Learner Object\n",
        "see https://github.com/kaushaltrivedi/fast-bert#2-create-a-learner-object"
      ]
    },
    {
      "cell_type": "code",
      "metadata": {
        "id": "5ZDfOBDUCkH0",
        "colab_type": "code",
        "colab": {
          "base_uri": "https://localhost:8080/",
          "height": 632
        },
        "outputId": "2d620b2d-a929-4673-fa08-a84fc6d724f2"
      },
      "source": [
        "import logging\n",
        "import torch\n",
        "\n",
        "from fast_bert.learner_cls import BertLearner\n",
        "from fast_bert.metrics import accuracy\n",
        "\n",
        "logging.basicConfig(level=logging.INFO)\n",
        "logger = logging.getLogger(__name__)\n",
        "\n",
        "device_cuda = torch.device(\"cuda\")\n",
        "metrics = [{'name': 'accuracy', 'function': accuracy}]\n",
        "\n",
        "!mkdir 'output'\n",
        "learner = BertLearner.from_pretrained_model(\n",
        "\t\t\t\t\t\tdatabunch,\n",
        "\t\t\t\t\t\tpretrained_path='aubmindlab/bert-base-arabert',\n",
        "\t\t\t\t\t\tmetrics=metrics,\n",
        "\t\t\t\t\t\tdevice=device_cuda,\n",
        "\t\t\t\t\t\tlogger=logger,\n",
        "\t\t\t\t\t\toutput_dir='output',\n",
        "\t\t\t\t\t\tfinetuned_wgts_path=None,\n",
        "\t\t\t\t\t\twarmup_steps=30,\n",
        "\t\t\t\t\t\tmulti_gpu=False,\n",
        "\t\t\t\t\t\tis_fp16=False,\n",
        "\t\t\t\t\t\tmulti_label=False,\n",
        "\t\t\t\t\t\tlogging_steps=0)"
      ],
      "execution_count": 27,
      "outputs": [
        {
          "output_type": "stream",
          "text": [
            "mkdir: cannot create directory ‘output’: File exists\n"
          ],
          "name": "stdout"
        },
        {
          "output_type": "stream",
          "text": [
            "INFO:transformers.configuration_utils:loading configuration file https://s3.amazonaws.com/models.huggingface.co/bert/aubmindlab/bert-base-arabert/config.json from cache at /root/.cache/torch/transformers/91c3e98e149f6e88215bffd705e4ef9bd8a355f4c317973e4f3868c6f93fa24a.6eb3bdeb0de95f2f47fb89640edd8008987e27ff2fafa62e0210100371359306\n",
            "INFO:transformers.configuration_utils:Model config BertConfig {\n",
            "  \"architectures\": [\n",
            "    \"BertModel\"\n",
            "  ],\n",
            "  \"attention_probs_dropout_prob\": 0.1,\n",
            "  \"directionality\": \"bidi\",\n",
            "  \"gradient_checkpointing\": false,\n",
            "  \"hidden_act\": \"gelu\",\n",
            "  \"hidden_dropout_prob\": 0.1,\n",
            "  \"hidden_size\": 768,\n",
            "  \"initializer_range\": 0.02,\n",
            "  \"intermediate_size\": 3072,\n",
            "  \"layer_norm_eps\": 1e-12,\n",
            "  \"max_position_embeddings\": 512,\n",
            "  \"model_type\": \"bert\",\n",
            "  \"num_attention_heads\": 12,\n",
            "  \"num_hidden_layers\": 12,\n",
            "  \"pad_token_id\": 0,\n",
            "  \"pooler_fc_size\": 768,\n",
            "  \"pooler_num_attention_heads\": 12,\n",
            "  \"pooler_num_fc_layers\": 3,\n",
            "  \"pooler_size_per_head\": 128,\n",
            "  \"pooler_type\": \"first_token_transform\",\n",
            "  \"type_vocab_size\": 2,\n",
            "  \"vocab_size\": 64000\n",
            "}\n",
            "\n",
            "INFO:transformers.modeling_utils:loading weights file https://cdn.huggingface.co/aubmindlab/bert-base-arabert/pytorch_model.bin from cache at /root/.cache/torch/transformers/26f8720a79d80f7ae70d448d93e09fed364a6b0393c95a026519402dbd1313b2.8867d4172d26dd413ba8029e13bbe7eb5b9ae301b62c259f8be84ee78c0beb0c\n",
            "WARNING:transformers.modeling_utils:Some weights of the model checkpoint at aubmindlab/bert-base-arabert were not used when initializing BertForSequenceClassification: ['cls.predictions.bias', 'cls.predictions.transform.dense.weight', 'cls.predictions.transform.dense.bias', 'cls.predictions.transform.LayerNorm.weight', 'cls.predictions.transform.LayerNorm.bias', 'cls.predictions.decoder.weight', 'cls.seq_relationship.weight', 'cls.seq_relationship.bias']\n",
            "- This IS expected if you are initializing BertForSequenceClassification from the checkpoint of a model trained on another task or with another architecture (e.g. initializing a BertForSequenceClassification model from a BertForPretraining model).\n",
            "- This IS NOT expected if you are initializing BertForSequenceClassification from the checkpoint of a model that you expect to be exactly identical (initializing a BertForSequenceClassification model from a BertForSequenceClassification model).\n",
            "WARNING:transformers.modeling_utils:Some weights of BertForSequenceClassification were not initialized from the model checkpoint at aubmindlab/bert-base-arabert and are newly initialized: ['classifier.weight', 'classifier.bias']\n",
            "You should probably TRAIN this model on a down-stream task to be able to use it for predictions and inference.\n"
          ],
          "name": "stderr"
        }
      ]
    },
    {
      "cell_type": "markdown",
      "metadata": {
        "id": "h-6B7bGDLAVD",
        "colab_type": "text"
      },
      "source": [
        "##Start Training and Validating"
      ]
    },
    {
      "cell_type": "code",
      "metadata": {
        "id": "FKNQZffIC6aX",
        "colab_type": "code",
        "colab": {
          "base_uri": "https://localhost:8080/",
          "height": 1000
        },
        "outputId": "1a38429a-e594-4942-aa54-b1458c7a1158"
      },
      "source": [
        "learner.fit(epochs=5,\n",
        "\t\t\tlr=2e-5,\n",
        "\t\t\tvalidate=True, \t# Evaluate the model after each epoch\n",
        "\t\t\tschedule_type=\"warmup_linear\",\n",
        "\t\t\toptimizer_type=\"adamw\")"
      ],
      "execution_count": 28,
      "outputs": [
        {
          "output_type": "stream",
          "text": [
            "INFO:__main__:***** Running training *****\n",
            "INFO:__main__:  Num examples = 1440\n",
            "INFO:__main__:  Num Epochs = 5\n",
            "INFO:__main__:  Total train batch size (w. parallel, distributed & accumulation) = 16\n",
            "INFO:__main__:  Gradient Accumulation steps = 1\n",
            "INFO:__main__:  Total optimization steps = 450\n"
          ],
          "name": "stderr"
        },
        {
          "output_type": "display_data",
          "data": {
            "text/html": [
              ""
            ],
            "text/plain": [
              "<IPython.core.display.HTML object>"
            ]
          },
          "metadata": {
            "tags": []
          }
        },
        {
          "output_type": "stream",
          "text": [
            "INFO:__main__:Running evaluation\n",
            "INFO:__main__:  Num examples = 360\n",
            "INFO:__main__:  Batch size = 32\n"
          ],
          "name": "stderr"
        },
        {
          "output_type": "display_data",
          "data": {
            "text/html": [
              "\n",
              "    <div>\n",
              "        <style>\n",
              "            /* Turns off some styling */\n",
              "            progress {\n",
              "                /* gets rid of default border in Firefox and Opera. */\n",
              "                border: none;\n",
              "                /* Needs to be in here for Safari polyfill so background images work as expected. */\n",
              "                background-size: auto;\n",
              "            }\n",
              "            .progress-bar-interrupted, .progress-bar-interrupted::-webkit-progress-bar {\n",
              "                background: #F44336;\n",
              "            }\n",
              "        </style>\n",
              "      <progress value='12' class='' max='12' style='width:300px; height:20px; vertical-align: middle;'></progress>\n",
              "      100.00% [12/12 00:02<00:00]\n",
              "    </div>\n",
              "    "
            ],
            "text/plain": [
              "<IPython.core.display.HTML object>"
            ]
          },
          "metadata": {
            "tags": []
          }
        },
        {
          "output_type": "stream",
          "text": [
            "INFO:__main__:eval_loss after epoch 1: 0.21195762356122336: \n",
            "INFO:__main__:eval_accuracy after epoch 1: 0.9111111111111111: \n",
            "/usr/local/lib/python3.6/dist-packages/torch/optim/lr_scheduler.py:231: UserWarning: To get the last learning rate computed by the scheduler, please use `get_last_lr()`.\n",
            "  warnings.warn(\"To get the last learning rate computed by the scheduler, \"\n",
            "INFO:__main__:lr after epoch 1: 1.7142857142857142e-05\n",
            "INFO:__main__:train_loss after epoch 1: 0.42563389043013256\n",
            "INFO:__main__:\n",
            "\n",
            "INFO:__main__:Running evaluation\n",
            "INFO:__main__:  Num examples = 360\n",
            "INFO:__main__:  Batch size = 32\n"
          ],
          "name": "stderr"
        },
        {
          "output_type": "display_data",
          "data": {
            "text/html": [
              "\n",
              "    <div>\n",
              "        <style>\n",
              "            /* Turns off some styling */\n",
              "            progress {\n",
              "                /* gets rid of default border in Firefox and Opera. */\n",
              "                border: none;\n",
              "                /* Needs to be in here for Safari polyfill so background images work as expected. */\n",
              "                background-size: auto;\n",
              "            }\n",
              "            .progress-bar-interrupted, .progress-bar-interrupted::-webkit-progress-bar {\n",
              "                background: #F44336;\n",
              "            }\n",
              "        </style>\n",
              "      <progress value='12' class='' max='12' style='width:300px; height:20px; vertical-align: middle;'></progress>\n",
              "      100.00% [12/12 00:02<00:00]\n",
              "    </div>\n",
              "    "
            ],
            "text/plain": [
              "<IPython.core.display.HTML object>"
            ]
          },
          "metadata": {
            "tags": []
          }
        },
        {
          "output_type": "stream",
          "text": [
            "INFO:__main__:eval_loss after epoch 2: 0.2557687560717265: \n",
            "INFO:__main__:eval_accuracy after epoch 2: 0.9111111111111111: \n",
            "INFO:__main__:lr after epoch 2: 1.2857142857142859e-05\n",
            "INFO:__main__:train_loss after epoch 2: 0.1966747651911444\n",
            "INFO:__main__:\n",
            "\n",
            "INFO:__main__:Running evaluation\n",
            "INFO:__main__:  Num examples = 360\n",
            "INFO:__main__:  Batch size = 32\n"
          ],
          "name": "stderr"
        },
        {
          "output_type": "display_data",
          "data": {
            "text/html": [
              "\n",
              "    <div>\n",
              "        <style>\n",
              "            /* Turns off some styling */\n",
              "            progress {\n",
              "                /* gets rid of default border in Firefox and Opera. */\n",
              "                border: none;\n",
              "                /* Needs to be in here for Safari polyfill so background images work as expected. */\n",
              "                background-size: auto;\n",
              "            }\n",
              "            .progress-bar-interrupted, .progress-bar-interrupted::-webkit-progress-bar {\n",
              "                background: #F44336;\n",
              "            }\n",
              "        </style>\n",
              "      <progress value='12' class='' max='12' style='width:300px; height:20px; vertical-align: middle;'></progress>\n",
              "      100.00% [12/12 00:02<00:00]\n",
              "    </div>\n",
              "    "
            ],
            "text/plain": [
              "<IPython.core.display.HTML object>"
            ]
          },
          "metadata": {
            "tags": []
          }
        },
        {
          "output_type": "stream",
          "text": [
            "INFO:__main__:eval_loss after epoch 3: 0.2621495487789313: \n",
            "INFO:__main__:eval_accuracy after epoch 3: 0.9333333333333333: \n",
            "INFO:__main__:lr after epoch 3: 8.571428571428571e-06\n",
            "INFO:__main__:train_loss after epoch 3: 0.09381214525136683\n",
            "INFO:__main__:\n",
            "\n",
            "INFO:__main__:Running evaluation\n",
            "INFO:__main__:  Num examples = 360\n",
            "INFO:__main__:  Batch size = 32\n"
          ],
          "name": "stderr"
        },
        {
          "output_type": "display_data",
          "data": {
            "text/html": [
              "\n",
              "    <div>\n",
              "        <style>\n",
              "            /* Turns off some styling */\n",
              "            progress {\n",
              "                /* gets rid of default border in Firefox and Opera. */\n",
              "                border: none;\n",
              "                /* Needs to be in here for Safari polyfill so background images work as expected. */\n",
              "                background-size: auto;\n",
              "            }\n",
              "            .progress-bar-interrupted, .progress-bar-interrupted::-webkit-progress-bar {\n",
              "                background: #F44336;\n",
              "            }\n",
              "        </style>\n",
              "      <progress value='12' class='' max='12' style='width:300px; height:20px; vertical-align: middle;'></progress>\n",
              "      100.00% [12/12 00:02<00:00]\n",
              "    </div>\n",
              "    "
            ],
            "text/plain": [
              "<IPython.core.display.HTML object>"
            ]
          },
          "metadata": {
            "tags": []
          }
        },
        {
          "output_type": "stream",
          "text": [
            "INFO:__main__:eval_loss after epoch 4: 0.2937438429022829: \n",
            "INFO:__main__:eval_accuracy after epoch 4: 0.9333333333333333: \n",
            "INFO:__main__:lr after epoch 4: 4.2857142857142855e-06\n",
            "INFO:__main__:train_loss after epoch 4: 0.03164816682951318\n",
            "INFO:__main__:\n",
            "\n",
            "INFO:__main__:Running evaluation\n",
            "INFO:__main__:  Num examples = 360\n",
            "INFO:__main__:  Batch size = 32\n"
          ],
          "name": "stderr"
        },
        {
          "output_type": "display_data",
          "data": {
            "text/html": [
              "\n",
              "    <div>\n",
              "        <style>\n",
              "            /* Turns off some styling */\n",
              "            progress {\n",
              "                /* gets rid of default border in Firefox and Opera. */\n",
              "                border: none;\n",
              "                /* Needs to be in here for Safari polyfill so background images work as expected. */\n",
              "                background-size: auto;\n",
              "            }\n",
              "            .progress-bar-interrupted, .progress-bar-interrupted::-webkit-progress-bar {\n",
              "                background: #F44336;\n",
              "            }\n",
              "        </style>\n",
              "      <progress value='12' class='' max='12' style='width:300px; height:20px; vertical-align: middle;'></progress>\n",
              "      100.00% [12/12 00:02<00:00]\n",
              "    </div>\n",
              "    "
            ],
            "text/plain": [
              "<IPython.core.display.HTML object>"
            ]
          },
          "metadata": {
            "tags": []
          }
        },
        {
          "output_type": "stream",
          "text": [
            "INFO:__main__:eval_loss after epoch 5: 0.3140492020174861: \n",
            "INFO:__main__:eval_accuracy after epoch 5: 0.9222222222222223: \n",
            "INFO:__main__:lr after epoch 5: 0.0\n",
            "INFO:__main__:train_loss after epoch 5: 0.020089184989531834\n",
            "INFO:__main__:\n",
            "\n"
          ],
          "name": "stderr"
        },
        {
          "output_type": "execute_result",
          "data": {
            "text/plain": [
              "(450, 0.15357163053833775)"
            ]
          },
          "metadata": {
            "tags": []
          },
          "execution_count": 28
        }
      ]
    },
    {
      "cell_type": "markdown",
      "metadata": {
        "id": "Pi7SI3OCLEkE",
        "colab_type": "text"
      },
      "source": [
        "##You can see the output using tensorboard"
      ]
    },
    {
      "cell_type": "code",
      "metadata": {
        "id": "G1BLaw3xDYL4",
        "colab_type": "code",
        "colab": {}
      },
      "source": [
        "%load_ext tensorboard\n",
        "%tensorboard --logdir './output/tensorboard'"
      ],
      "execution_count": null,
      "outputs": []
    }
  ]
}